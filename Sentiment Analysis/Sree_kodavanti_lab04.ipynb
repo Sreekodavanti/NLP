{
  "nbformat": 4,
  "nbformat_minor": 0,
  "metadata": {
    "colab": {
      "provenance": [],
      "gpuType": "T4"
    },
    "kernelspec": {
      "name": "python3",
      "display_name": "Python 3"
    },
    "language_info": {
      "name": "python"
    },
    "accelerator": "GPU"
  },
  "cells": [
    {
      "cell_type": "code",
      "execution_count": 1,
      "metadata": {
        "id": "0tnq8rbcezsX"
      },
      "outputs": [],
      "source": [
        "import tensorflow as tf\n",
        "from tensorflow import keras\n",
        "from keras import layers\n",
        "from tensorflow.keras.utils import to_categorical\n",
        "import numpy as np\n",
        "import matplotlib.pyplot as plt\n",
        "\n",
        "import warnings\n",
        "warnings.filterwarnings('ignore')\n"
      ]
    },
    {
      "cell_type": "code",
      "source": [
        "# Load in the data\n",
        "cifar100 = tf.keras.datasets.cifar100\n",
        "\n",
        "# Distribute it to train and test set\n",
        "(x_train, y_train), (x_val, y_val) = cifar100.load_data()"
      ],
      "metadata": {
        "colab": {
          "base_uri": "https://localhost:8080/"
        },
        "id": "sv84i34xxnGP",
        "outputId": "61cfe763-01bb-45de-cc4c-d351268574fe"
      },
      "execution_count": 2,
      "outputs": [
        {
          "output_type": "stream",
          "name": "stdout",
          "text": [
            "Downloading data from https://www.cs.toronto.edu/~kriz/cifar-100-python.tar.gz\n",
            "169001437/169001437 [==============================] - 4s 0us/step\n"
          ]
        }
      ]
    },
    {
      "cell_type": "code",
      "source": [
        "len(x_train)"
      ],
      "metadata": {
        "colab": {
          "base_uri": "https://localhost:8080/"
        },
        "id": "Kfsao2Cgxt_c",
        "outputId": "ab141cdf-15b9-41e3-dbeb-31eaa96b39fa"
      },
      "execution_count": 6,
      "outputs": [
        {
          "output_type": "execute_result",
          "data": {
            "text/plain": [
              "50000"
            ]
          },
          "metadata": {},
          "execution_count": 6
        }
      ]
    },
    {
      "cell_type": "code",
      "source": [
        "len(y_train)"
      ],
      "metadata": {
        "colab": {
          "base_uri": "https://localhost:8080/"
        },
        "id": "pIye1ulUx5gL",
        "outputId": "e639b776-4a24-4e0c-bd41-1db33e36bac2"
      },
      "execution_count": 7,
      "outputs": [
        {
          "output_type": "execute_result",
          "data": {
            "text/plain": [
              "50000"
            ]
          },
          "metadata": {},
          "execution_count": 7
        }
      ]
    },
    {
      "cell_type": "code",
      "source": [
        "x_val.shape"
      ],
      "metadata": {
        "colab": {
          "base_uri": "https://localhost:8080/"
        },
        "id": "IohqJuchx9-P",
        "outputId": "682dce33-d31b-4b48-f70e-9a7c2d195100"
      },
      "execution_count": 8,
      "outputs": [
        {
          "output_type": "execute_result",
          "data": {
            "text/plain": [
              "(10000, 32, 32, 3)"
            ]
          },
          "metadata": {},
          "execution_count": 8
        }
      ]
    },
    {
      "cell_type": "code",
      "source": [
        "import tensorflow as tf\n",
        "from tensorflow import keras\n",
        "from keras import layers\n",
        "from tensorflow.keras.utils import to_categorical\n",
        "from tensorflow.keras.preprocessing.image import ImageDataGenerator\n",
        "import numpy as np\n",
        "import matplotlib.pyplot as plt\n",
        "\n",
        "import warnings\n",
        "warnings.filterwarnings('ignore')\n",
        "\n",
        "# Load in the data\n",
        "cifar100 = tf.keras.datasets.cifar100\n",
        "\n",
        "# Distribute it to train and test set\n",
        "(x_train, y_train), (x_val, y_val) = cifar100.load_data()\n",
        "\n",
        "# Normalize the input data\n",
        "x_train = x_train.astype('float32') / 255.0\n",
        "x_val = x_val.astype('float32') / 255.0\n",
        "\n",
        "# Transform labels to one hot encoding\n",
        "y_train = to_categorical(y_train, 100)\n",
        "y_val = to_categorical(y_val, 100)\n",
        "\n",
        "# Data augmentation\n",
        "datagen = ImageDataGenerator(\n",
        "    rotation_range=15,\n",
        "    width_shift_range=0.1,\n",
        "    height_shift_range=0.1,\n",
        "    horizontal_flip=True\n",
        ")\n",
        "datagen.fit(x_train)\n",
        "\n",
        "# Build the model\n",
        "model = tf.keras.models.Sequential([\n",
        "    layers.Conv2D(32, (3, 3), activation='relu', input_shape=(32, 32, 3), padding='same'),\n",
        "    layers.Conv2D(32, (3, 3), activation='relu', padding='same'),\n",
        "    layers.MaxPooling2D(2, 2),\n",
        "    layers.Dropout(0.25),\n",
        "    layers.Conv2D(64, (3, 3), activation='relu', padding='same'),\n",
        "    layers.Conv2D(64, (3, 3), activation='relu', padding='same'),\n",
        "    layers.MaxPooling2D(2, 2),\n",
        "    layers.Dropout(0.25),\n",
        "    layers.Conv2D(128, (3, 3), activation='relu', padding='same'),\n",
        "    layers.Conv2D(128, (3, 3), activation='relu', padding='same'),\n",
        "    layers.MaxPooling2D(2, 2),\n",
        "    layers.Dropout(0.25),\n",
        "    layers.Flatten(),\n",
        "    layers.Dense(512, activation='relu'),\n",
        "    layers.BatchNormalization(),\n",
        "    layers.Dropout(0.5),\n",
        "    layers.Dense(100, activation='softmax')\n",
        "])\n",
        "\n",
        "# Compile the model\n",
        "model.compile(\n",
        "    loss=tf.keras.losses.CategoricalCrossentropy(from_logits=True),\n",
        "    optimizer='SGD',\n",
        "    metrics=['AUC', 'accuracy']\n",
        ")\n",
        "\n",
        "model.summary()\n",
        "\n",
        "# Define learning rate scheduler\n",
        "lr_scheduler = tf.keras.callbacks.LearningRateScheduler(lambda epoch: 1e-3 * 10 ** (epoch / 30))\n",
        "\n",
        "# Train the model with data augmentation\n",
        "hist = model.fit(datagen.flow(x_train, y_train, batch_size=512),\n",
        "                epochs=20,\n",
        "                validation_data=(x_val, y_val),\n",
        "                callbacks=[lr_scheduler],\n",
        "                verbose=1)\n",
        "\n",
        "# Evaluate the model\n",
        "loss, auc, accuracy = model.evaluate(x_val, y_val, verbose=0)\n",
        "print(f'accuracy: {accuracy * 100:.2f}%')\n"
      ],
      "metadata": {
        "colab": {
          "base_uri": "https://localhost:8080/"
        },
        "id": "6UpC8iX9wMN0",
        "outputId": "91ccc652-9e8f-4add-9636-beaedbbfdef5"
      },
      "execution_count": 37,
      "outputs": [
        {
          "output_type": "stream",
          "name": "stdout",
          "text": [
            "Model: \"sequential_5\"\n",
            "_________________________________________________________________\n",
            " Layer (type)                Output Shape              Param #   \n",
            "=================================================================\n",
            " conv2d_26 (Conv2D)          (None, 32, 32, 32)        896       \n",
            "                                                                 \n",
            " conv2d_27 (Conv2D)          (None, 32, 32, 32)        9248      \n",
            "                                                                 \n",
            " max_pooling2d_11 (MaxPooli  (None, 16, 16, 32)        0         \n",
            " ng2D)                                                           \n",
            "                                                                 \n",
            " dropout_14 (Dropout)        (None, 16, 16, 32)        0         \n",
            "                                                                 \n",
            " conv2d_28 (Conv2D)          (None, 16, 16, 64)        18496     \n",
            "                                                                 \n",
            " conv2d_29 (Conv2D)          (None, 16, 16, 64)        36928     \n",
            "                                                                 \n",
            " max_pooling2d_12 (MaxPooli  (None, 8, 8, 64)          0         \n",
            " ng2D)                                                           \n",
            "                                                                 \n",
            " dropout_15 (Dropout)        (None, 8, 8, 64)          0         \n",
            "                                                                 \n",
            " conv2d_30 (Conv2D)          (None, 8, 8, 128)         73856     \n",
            "                                                                 \n",
            " conv2d_31 (Conv2D)          (None, 8, 8, 128)         147584    \n",
            "                                                                 \n",
            " max_pooling2d_13 (MaxPooli  (None, 4, 4, 128)         0         \n",
            " ng2D)                                                           \n",
            "                                                                 \n",
            " dropout_16 (Dropout)        (None, 4, 4, 128)         0         \n",
            "                                                                 \n",
            " flatten_5 (Flatten)         (None, 2048)              0         \n",
            "                                                                 \n",
            " dense_12 (Dense)            (None, 512)               1049088   \n",
            "                                                                 \n",
            " batch_normalization_7 (Bat  (None, 512)               2048      \n",
            " chNormalization)                                                \n",
            "                                                                 \n",
            " dropout_17 (Dropout)        (None, 512)               0         \n",
            "                                                                 \n",
            " dense_13 (Dense)            (None, 100)               51300     \n",
            "                                                                 \n",
            "=================================================================\n",
            "Total params: 1389444 (5.30 MB)\n",
            "Trainable params: 1388420 (5.30 MB)\n",
            "Non-trainable params: 1024 (4.00 KB)\n",
            "_________________________________________________________________\n",
            "Epoch 1/20\n",
            "98/98 [==============================] - 29s 278ms/step - loss: 4.7003 - auc: 0.4984 - accuracy: 0.0098 - val_loss: 4.6050 - val_auc: 0.5060 - val_accuracy: 0.0129 - lr: 0.0010\n",
            "Epoch 2/20\n",
            "98/98 [==============================] - 28s 283ms/step - loss: 4.6000 - auc: 0.5211 - accuracy: 0.0136 - val_loss: 4.6045 - val_auc: 0.5153 - val_accuracy: 0.0170 - lr: 0.0011\n",
            "Epoch 3/20\n",
            "98/98 [==============================] - 27s 274ms/step - loss: 4.5896 - auc: 0.5378 - accuracy: 0.0164 - val_loss: 4.6034 - val_auc: 0.5302 - val_accuracy: 0.0155 - lr: 0.0012\n",
            "Epoch 4/20\n",
            "98/98 [==============================] - 27s 270ms/step - loss: 4.5808 - auc: 0.5491 - accuracy: 0.0192 - val_loss: 4.6002 - val_auc: 0.5603 - val_accuracy: 0.0220 - lr: 0.0013\n",
            "Epoch 5/20\n",
            "98/98 [==============================] - 32s 322ms/step - loss: 4.5711 - auc: 0.5594 - accuracy: 0.0200 - val_loss: 4.5943 - val_auc: 0.5674 - val_accuracy: 0.0251 - lr: 0.0014\n",
            "Epoch 6/20\n",
            "98/98 [==============================] - 28s 285ms/step - loss: 4.5583 - auc: 0.5706 - accuracy: 0.0235 - val_loss: 4.5800 - val_auc: 0.5898 - val_accuracy: 0.0311 - lr: 0.0015\n",
            "Epoch 7/20\n",
            "98/98 [==============================] - 28s 290ms/step - loss: 4.5452 - auc: 0.5783 - accuracy: 0.0249 - val_loss: 4.5599 - val_auc: 0.5965 - val_accuracy: 0.0321 - lr: 0.0016\n",
            "Epoch 8/20\n",
            "98/98 [==============================] - 33s 332ms/step - loss: 4.5260 - auc: 0.5890 - accuracy: 0.0258 - val_loss: 4.5313 - val_auc: 0.6077 - val_accuracy: 0.0314 - lr: 0.0017\n",
            "Epoch 9/20\n",
            "98/98 [==============================] - 29s 297ms/step - loss: 4.5088 - auc: 0.5968 - accuracy: 0.0266 - val_loss: 4.5074 - val_auc: 0.6119 - val_accuracy: 0.0362 - lr: 0.0018\n",
            "Epoch 10/20\n",
            "98/98 [==============================] - 27s 277ms/step - loss: 4.4894 - auc: 0.6081 - accuracy: 0.0282 - val_loss: 4.4818 - val_auc: 0.6265 - val_accuracy: 0.0373 - lr: 0.0020\n",
            "Epoch 11/20\n",
            "98/98 [==============================] - 26s 269ms/step - loss: 4.4727 - auc: 0.6178 - accuracy: 0.0313 - val_loss: 4.4604 - val_auc: 0.6386 - val_accuracy: 0.0404 - lr: 0.0022\n",
            "Epoch 12/20\n",
            "98/98 [==============================] - 27s 275ms/step - loss: 4.4530 - auc: 0.6279 - accuracy: 0.0314 - val_loss: 4.4309 - val_auc: 0.6567 - val_accuracy: 0.0430 - lr: 0.0023\n",
            "Epoch 13/20\n",
            "98/98 [==============================] - 27s 277ms/step - loss: 4.4337 - auc: 0.6387 - accuracy: 0.0328 - val_loss: 4.4139 - val_auc: 0.6601 - val_accuracy: 0.0433 - lr: 0.0025\n",
            "Epoch 14/20\n",
            "98/98 [==============================] - 27s 271ms/step - loss: 4.4186 - auc: 0.6454 - accuracy: 0.0343 - val_loss: 4.4018 - val_auc: 0.6638 - val_accuracy: 0.0422 - lr: 0.0027\n",
            "Epoch 15/20\n",
            "98/98 [==============================] - 27s 278ms/step - loss: 4.3939 - auc: 0.6580 - accuracy: 0.0360 - val_loss: 4.3741 - val_auc: 0.6794 - val_accuracy: 0.0458 - lr: 0.0029\n",
            "Epoch 16/20\n",
            "98/98 [==============================] - 27s 274ms/step - loss: 4.3735 - auc: 0.6662 - accuracy: 0.0377 - val_loss: 4.3562 - val_auc: 0.6887 - val_accuracy: 0.0490 - lr: 0.0032\n",
            "Epoch 17/20\n",
            "98/98 [==============================] - 28s 285ms/step - loss: 4.3601 - auc: 0.6732 - accuracy: 0.0394 - val_loss: 4.3267 - val_auc: 0.6991 - val_accuracy: 0.0508 - lr: 0.0034\n",
            "Epoch 18/20\n",
            "98/98 [==============================] - 28s 283ms/step - loss: 4.3386 - auc: 0.6803 - accuracy: 0.0409 - val_loss: 4.3126 - val_auc: 0.7027 - val_accuracy: 0.0551 - lr: 0.0037\n",
            "Epoch 19/20\n",
            "98/98 [==============================] - 27s 276ms/step - loss: 4.3139 - auc: 0.6891 - accuracy: 0.0442 - val_loss: 4.2826 - val_auc: 0.7165 - val_accuracy: 0.0622 - lr: 0.0040\n",
            "Epoch 20/20\n",
            "98/98 [==============================] - 27s 272ms/step - loss: 4.2947 - auc: 0.6973 - accuracy: 0.0462 - val_loss: 4.2536 - val_auc: 0.7250 - val_accuracy: 0.0669 - lr: 0.0043\n",
            "accuracy: 6.69%\n"
          ]
        }
      ]
    },
    {
      "cell_type": "code",
      "source": [],
      "metadata": {
        "id": "-N9mqZ_ECyws"
      },
      "execution_count": null,
      "outputs": []
    }
  ]
}