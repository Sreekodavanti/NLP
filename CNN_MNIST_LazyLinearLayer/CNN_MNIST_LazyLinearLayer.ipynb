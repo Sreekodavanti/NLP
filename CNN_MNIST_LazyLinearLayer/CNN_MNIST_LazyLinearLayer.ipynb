{
  "cells": [
    {
      "cell_type": "code",
      "execution_count": null,
      "metadata": {
        "id": "i9IzH19LlgfF"
      },
      "outputs": [],
      "source": [
        "import torch\n",
        "import matplotlib.pyplot as plt\n",
        "from matplotlib import style\n",
        "style.use('dark_background')\n",
        "import numpy as np\n",
        "import torch.nn as nn\n",
        "import torch.nn.functional as F\n",
        "from torch.utils.data import DataLoader,TensorDataset\n",
        "from sklearn.model_selection import train_test_split\n",
        "from torchsummary import summary\n"
      ]
    },
    {
      "cell_type": "code",
      "execution_count": null,
      "metadata": {
        "id": "8iECe9XQlgfL",
        "colab": {
          "base_uri": "https://localhost:8080/"
        },
        "outputId": "515c4726-10e5-4ea9-8251-5aa97cdc4bd4"
      },
      "outputs": [
        {
          "output_type": "execute_result",
          "data": {
            "text/plain": [
              "True"
            ]
          },
          "metadata": {},
          "execution_count": 2
        }
      ],
      "source": [
        "torch.cuda.is_available()"
      ]
    },
    {
      "cell_type": "code",
      "execution_count": null,
      "metadata": {
        "id": "HAZG6IjPlgfM",
        "colab": {
          "base_uri": "https://localhost:8080/"
        },
        "outputId": "ece45245-f8dc-4399-a45c-9dab6e8852f6"
      },
      "outputs": [
        {
          "output_type": "stream",
          "name": "stdout",
          "text": [
            "cuda:0\n"
          ]
        }
      ],
      "source": [
        "device = torch.device('cuda:0' if torch.cuda.is_available() else 'cpu')\n",
        "print(device)"
      ]
    },
    {
      "cell_type": "code",
      "source": [
        "from google.colab import drive\n",
        "drive.mount('/content/drive')"
      ],
      "metadata": {
        "id": "O1dVoU-VmPzL",
        "colab": {
          "base_uri": "https://localhost:8080/"
        },
        "outputId": "934e66e1-b0e6-47ea-e2e7-1b8c27ccba4b"
      },
      "execution_count": null,
      "outputs": [
        {
          "output_type": "stream",
          "name": "stdout",
          "text": [
            "Mounted at /content/drive\n"
          ]
        }
      ]
    },
    {
      "cell_type": "code",
      "source": [
        "%cd /content/drive/MyDrive/Course Material/Supervised Machine Learning/Convolutional Neural Network"
      ],
      "metadata": {
        "id": "LYx3kgHkmXQt",
        "colab": {
          "base_uri": "https://localhost:8080/"
        },
        "outputId": "03e3ddd4-e355-415f-ab47-0d0db9d0599e"
      },
      "execution_count": null,
      "outputs": [
        {
          "output_type": "stream",
          "name": "stdout",
          "text": [
            "/content/drive/MyDrive/Course Material/Supervised Machine Learning/Convolutional Neural Network\n"
          ]
        }
      ]
    },
    {
      "cell_type": "markdown",
      "metadata": {
        "id": "0HOkOefftqyg"
      },
      "source": [
        "# Import and process the data"
      ]
    },
    {
      "cell_type": "code",
      "execution_count": null,
      "metadata": {
        "id": "MU7rvmWuhjud"
      },
      "outputs": [],
      "source": [
        "import pandas as pd\n",
        "\n",
        "data = pd.read_csv('mnist_train.csv')"
      ]
    },
    {
      "cell_type": "code",
      "source": [
        "data.head()"
      ],
      "metadata": {
        "colab": {
          "base_uri": "https://localhost:8080/",
          "height": 235
        },
        "id": "2LYNzKz2Vv--",
        "outputId": "c7defe23-0b61-4711-b3d7-0b8144eb142c"
      },
      "execution_count": null,
      "outputs": [
        {
          "output_type": "execute_result",
          "data": {
            "text/plain": [
              "   label  1x1  1x2  1x3  1x4  1x5  1x6  1x7  1x8  1x9  ...  28x19  28x20  \\\n",
              "0      5    0    0    0    0    0    0    0    0    0  ...      0      0   \n",
              "1      0    0    0    0    0    0    0    0    0    0  ...      0      0   \n",
              "2      4    0    0    0    0    0    0    0    0    0  ...      0      0   \n",
              "3      1    0    0    0    0    0    0    0    0    0  ...      0      0   \n",
              "4      9    0    0    0    0    0    0    0    0    0  ...      0      0   \n",
              "\n",
              "   28x21  28x22  28x23  28x24  28x25  28x26  28x27  28x28  \n",
              "0      0      0      0      0      0      0      0      0  \n",
              "1      0      0      0      0      0      0      0      0  \n",
              "2      0      0      0      0      0      0      0      0  \n",
              "3      0      0      0      0      0      0      0      0  \n",
              "4      0      0      0      0      0      0      0      0  \n",
              "\n",
              "[5 rows x 785 columns]"
            ],
            "text/html": [
              "\n",
              "\n",
              "  <div id=\"df-1f8ddaac-36d3-4ef1-bb87-a3260bf0a880\">\n",
              "    <div class=\"colab-df-container\">\n",
              "      <div>\n",
              "<style scoped>\n",
              "    .dataframe tbody tr th:only-of-type {\n",
              "        vertical-align: middle;\n",
              "    }\n",
              "\n",
              "    .dataframe tbody tr th {\n",
              "        vertical-align: top;\n",
              "    }\n",
              "\n",
              "    .dataframe thead th {\n",
              "        text-align: right;\n",
              "    }\n",
              "</style>\n",
              "<table border=\"1\" class=\"dataframe\">\n",
              "  <thead>\n",
              "    <tr style=\"text-align: right;\">\n",
              "      <th></th>\n",
              "      <th>label</th>\n",
              "      <th>1x1</th>\n",
              "      <th>1x2</th>\n",
              "      <th>1x3</th>\n",
              "      <th>1x4</th>\n",
              "      <th>1x5</th>\n",
              "      <th>1x6</th>\n",
              "      <th>1x7</th>\n",
              "      <th>1x8</th>\n",
              "      <th>1x9</th>\n",
              "      <th>...</th>\n",
              "      <th>28x19</th>\n",
              "      <th>28x20</th>\n",
              "      <th>28x21</th>\n",
              "      <th>28x22</th>\n",
              "      <th>28x23</th>\n",
              "      <th>28x24</th>\n",
              "      <th>28x25</th>\n",
              "      <th>28x26</th>\n",
              "      <th>28x27</th>\n",
              "      <th>28x28</th>\n",
              "    </tr>\n",
              "  </thead>\n",
              "  <tbody>\n",
              "    <tr>\n",
              "      <th>0</th>\n",
              "      <td>5</td>\n",
              "      <td>0</td>\n",
              "      <td>0</td>\n",
              "      <td>0</td>\n",
              "      <td>0</td>\n",
              "      <td>0</td>\n",
              "      <td>0</td>\n",
              "      <td>0</td>\n",
              "      <td>0</td>\n",
              "      <td>0</td>\n",
              "      <td>...</td>\n",
              "      <td>0</td>\n",
              "      <td>0</td>\n",
              "      <td>0</td>\n",
              "      <td>0</td>\n",
              "      <td>0</td>\n",
              "      <td>0</td>\n",
              "      <td>0</td>\n",
              "      <td>0</td>\n",
              "      <td>0</td>\n",
              "      <td>0</td>\n",
              "    </tr>\n",
              "    <tr>\n",
              "      <th>1</th>\n",
              "      <td>0</td>\n",
              "      <td>0</td>\n",
              "      <td>0</td>\n",
              "      <td>0</td>\n",
              "      <td>0</td>\n",
              "      <td>0</td>\n",
              "      <td>0</td>\n",
              "      <td>0</td>\n",
              "      <td>0</td>\n",
              "      <td>0</td>\n",
              "      <td>...</td>\n",
              "      <td>0</td>\n",
              "      <td>0</td>\n",
              "      <td>0</td>\n",
              "      <td>0</td>\n",
              "      <td>0</td>\n",
              "      <td>0</td>\n",
              "      <td>0</td>\n",
              "      <td>0</td>\n",
              "      <td>0</td>\n",
              "      <td>0</td>\n",
              "    </tr>\n",
              "    <tr>\n",
              "      <th>2</th>\n",
              "      <td>4</td>\n",
              "      <td>0</td>\n",
              "      <td>0</td>\n",
              "      <td>0</td>\n",
              "      <td>0</td>\n",
              "      <td>0</td>\n",
              "      <td>0</td>\n",
              "      <td>0</td>\n",
              "      <td>0</td>\n",
              "      <td>0</td>\n",
              "      <td>...</td>\n",
              "      <td>0</td>\n",
              "      <td>0</td>\n",
              "      <td>0</td>\n",
              "      <td>0</td>\n",
              "      <td>0</td>\n",
              "      <td>0</td>\n",
              "      <td>0</td>\n",
              "      <td>0</td>\n",
              "      <td>0</td>\n",
              "      <td>0</td>\n",
              "    </tr>\n",
              "    <tr>\n",
              "      <th>3</th>\n",
              "      <td>1</td>\n",
              "      <td>0</td>\n",
              "      <td>0</td>\n",
              "      <td>0</td>\n",
              "      <td>0</td>\n",
              "      <td>0</td>\n",
              "      <td>0</td>\n",
              "      <td>0</td>\n",
              "      <td>0</td>\n",
              "      <td>0</td>\n",
              "      <td>...</td>\n",
              "      <td>0</td>\n",
              "      <td>0</td>\n",
              "      <td>0</td>\n",
              "      <td>0</td>\n",
              "      <td>0</td>\n",
              "      <td>0</td>\n",
              "      <td>0</td>\n",
              "      <td>0</td>\n",
              "      <td>0</td>\n",
              "      <td>0</td>\n",
              "    </tr>\n",
              "    <tr>\n",
              "      <th>4</th>\n",
              "      <td>9</td>\n",
              "      <td>0</td>\n",
              "      <td>0</td>\n",
              "      <td>0</td>\n",
              "      <td>0</td>\n",
              "      <td>0</td>\n",
              "      <td>0</td>\n",
              "      <td>0</td>\n",
              "      <td>0</td>\n",
              "      <td>0</td>\n",
              "      <td>...</td>\n",
              "      <td>0</td>\n",
              "      <td>0</td>\n",
              "      <td>0</td>\n",
              "      <td>0</td>\n",
              "      <td>0</td>\n",
              "      <td>0</td>\n",
              "      <td>0</td>\n",
              "      <td>0</td>\n",
              "      <td>0</td>\n",
              "      <td>0</td>\n",
              "    </tr>\n",
              "  </tbody>\n",
              "</table>\n",
              "<p>5 rows × 785 columns</p>\n",
              "</div>\n",
              "      <button class=\"colab-df-convert\" onclick=\"convertToInteractive('df-1f8ddaac-36d3-4ef1-bb87-a3260bf0a880')\"\n",
              "              title=\"Convert this dataframe to an interactive table.\"\n",
              "              style=\"display:none;\">\n",
              "\n",
              "  <svg xmlns=\"http://www.w3.org/2000/svg\" height=\"24px\"viewBox=\"0 0 24 24\"\n",
              "       width=\"24px\">\n",
              "    <path d=\"M0 0h24v24H0V0z\" fill=\"none\"/>\n",
              "    <path d=\"M18.56 5.44l.94 2.06.94-2.06 2.06-.94-2.06-.94-.94-2.06-.94 2.06-2.06.94zm-11 1L8.5 8.5l.94-2.06 2.06-.94-2.06-.94L8.5 2.5l-.94 2.06-2.06.94zm10 10l.94 2.06.94-2.06 2.06-.94-2.06-.94-.94-2.06-.94 2.06-2.06.94z\"/><path d=\"M17.41 7.96l-1.37-1.37c-.4-.4-.92-.59-1.43-.59-.52 0-1.04.2-1.43.59L10.3 9.45l-7.72 7.72c-.78.78-.78 2.05 0 2.83L4 21.41c.39.39.9.59 1.41.59.51 0 1.02-.2 1.41-.59l7.78-7.78 2.81-2.81c.8-.78.8-2.07 0-2.86zM5.41 20L4 18.59l7.72-7.72 1.47 1.35L5.41 20z\"/>\n",
              "  </svg>\n",
              "      </button>\n",
              "\n",
              "\n",
              "\n",
              "    <div id=\"df-13149c22-8817-453a-9036-0fc90d915d7c\">\n",
              "      <button class=\"colab-df-quickchart\" onclick=\"quickchart('df-13149c22-8817-453a-9036-0fc90d915d7c')\"\n",
              "              title=\"Suggest charts.\"\n",
              "              style=\"display:none;\">\n",
              "\n",
              "<svg xmlns=\"http://www.w3.org/2000/svg\" height=\"24px\"viewBox=\"0 0 24 24\"\n",
              "     width=\"24px\">\n",
              "    <g>\n",
              "        <path d=\"M19 3H5c-1.1 0-2 .9-2 2v14c0 1.1.9 2 2 2h14c1.1 0 2-.9 2-2V5c0-1.1-.9-2-2-2zM9 17H7v-7h2v7zm4 0h-2V7h2v10zm4 0h-2v-4h2v4z\"/>\n",
              "    </g>\n",
              "</svg>\n",
              "      </button>\n",
              "    </div>\n",
              "\n",
              "<style>\n",
              "  .colab-df-quickchart {\n",
              "    background-color: #E8F0FE;\n",
              "    border: none;\n",
              "    border-radius: 50%;\n",
              "    cursor: pointer;\n",
              "    display: none;\n",
              "    fill: #1967D2;\n",
              "    height: 32px;\n",
              "    padding: 0 0 0 0;\n",
              "    width: 32px;\n",
              "  }\n",
              "\n",
              "  .colab-df-quickchart:hover {\n",
              "    background-color: #E2EBFA;\n",
              "    box-shadow: 0px 1px 2px rgba(60, 64, 67, 0.3), 0px 1px 3px 1px rgba(60, 64, 67, 0.15);\n",
              "    fill: #174EA6;\n",
              "  }\n",
              "\n",
              "  [theme=dark] .colab-df-quickchart {\n",
              "    background-color: #3B4455;\n",
              "    fill: #D2E3FC;\n",
              "  }\n",
              "\n",
              "  [theme=dark] .colab-df-quickchart:hover {\n",
              "    background-color: #434B5C;\n",
              "    box-shadow: 0px 1px 3px 1px rgba(0, 0, 0, 0.15);\n",
              "    filter: drop-shadow(0px 1px 2px rgba(0, 0, 0, 0.3));\n",
              "    fill: #FFFFFF;\n",
              "  }\n",
              "</style>\n",
              "\n",
              "    <script>\n",
              "      async function quickchart(key) {\n",
              "        const containerElement = document.querySelector('#' + key);\n",
              "        const charts = await google.colab.kernel.invokeFunction(\n",
              "            'suggestCharts', [key], {});\n",
              "      }\n",
              "    </script>\n",
              "\n",
              "      <script>\n",
              "\n",
              "function displayQuickchartButton(domScope) {\n",
              "  let quickchartButtonEl =\n",
              "    domScope.querySelector('#df-13149c22-8817-453a-9036-0fc90d915d7c button.colab-df-quickchart');\n",
              "  quickchartButtonEl.style.display =\n",
              "    google.colab.kernel.accessAllowed ? 'block' : 'none';\n",
              "}\n",
              "\n",
              "        displayQuickchartButton(document);\n",
              "      </script>\n",
              "      <style>\n",
              "    .colab-df-container {\n",
              "      display:flex;\n",
              "      flex-wrap:wrap;\n",
              "      gap: 12px;\n",
              "    }\n",
              "\n",
              "    .colab-df-convert {\n",
              "      background-color: #E8F0FE;\n",
              "      border: none;\n",
              "      border-radius: 50%;\n",
              "      cursor: pointer;\n",
              "      display: none;\n",
              "      fill: #1967D2;\n",
              "      height: 32px;\n",
              "      padding: 0 0 0 0;\n",
              "      width: 32px;\n",
              "    }\n",
              "\n",
              "    .colab-df-convert:hover {\n",
              "      background-color: #E2EBFA;\n",
              "      box-shadow: 0px 1px 2px rgba(60, 64, 67, 0.3), 0px 1px 3px 1px rgba(60, 64, 67, 0.15);\n",
              "      fill: #174EA6;\n",
              "    }\n",
              "\n",
              "    [theme=dark] .colab-df-convert {\n",
              "      background-color: #3B4455;\n",
              "      fill: #D2E3FC;\n",
              "    }\n",
              "\n",
              "    [theme=dark] .colab-df-convert:hover {\n",
              "      background-color: #434B5C;\n",
              "      box-shadow: 0px 1px 3px 1px rgba(0, 0, 0, 0.15);\n",
              "      filter: drop-shadow(0px 1px 2px rgba(0, 0, 0, 0.3));\n",
              "      fill: #FFFFFF;\n",
              "    }\n",
              "  </style>\n",
              "\n",
              "      <script>\n",
              "        const buttonEl =\n",
              "          document.querySelector('#df-1f8ddaac-36d3-4ef1-bb87-a3260bf0a880 button.colab-df-convert');\n",
              "        buttonEl.style.display =\n",
              "          google.colab.kernel.accessAllowed ? 'block' : 'none';\n",
              "\n",
              "        async function convertToInteractive(key) {\n",
              "          const element = document.querySelector('#df-1f8ddaac-36d3-4ef1-bb87-a3260bf0a880');\n",
              "          const dataTable =\n",
              "            await google.colab.kernel.invokeFunction('convertToInteractive',\n",
              "                                                     [key], {});\n",
              "          if (!dataTable) return;\n",
              "\n",
              "          const docLinkHtml = 'Like what you see? Visit the ' +\n",
              "            '<a target=\"_blank\" href=https://colab.research.google.com/notebooks/data_table.ipynb>data table notebook</a>'\n",
              "            + ' to learn more about interactive tables.';\n",
              "          element.innerHTML = '';\n",
              "          dataTable['output_type'] = 'display_data';\n",
              "          await google.colab.output.renderOutput(dataTable, element);\n",
              "          const docLink = document.createElement('div');\n",
              "          docLink.innerHTML = docLinkHtml;\n",
              "          element.appendChild(docLink);\n",
              "        }\n",
              "      </script>\n",
              "    </div>\n",
              "  </div>\n"
            ]
          },
          "metadata": {},
          "execution_count": 7
        }
      ]
    },
    {
      "cell_type": "code",
      "source": [
        "data.shape"
      ],
      "metadata": {
        "colab": {
          "base_uri": "https://localhost:8080/"
        },
        "id": "YijMSKZSWF3_",
        "outputId": "bfd04c35-7995-4b28-b867-3d99e1ebdb40"
      },
      "execution_count": null,
      "outputs": [
        {
          "output_type": "execute_result",
          "data": {
            "text/plain": [
              "(60000, 785)"
            ]
          },
          "metadata": {},
          "execution_count": 8
        }
      ]
    },
    {
      "cell_type": "markdown",
      "source": [
        "# Transforming Data to Numpy and Extract first 10000 samples"
      ],
      "metadata": {
        "id": "VLmRwCKocd33"
      }
    },
    {
      "cell_type": "code",
      "source": [
        "data = np.array(data)\n",
        "data = data[0:10000,:] # Extracting first 10000 samples"
      ],
      "metadata": {
        "id": "_ZSmG6gqWM1m"
      },
      "execution_count": null,
      "outputs": []
    },
    {
      "cell_type": "markdown",
      "source": [
        "# Extracting Features and Labels"
      ],
      "metadata": {
        "id": "BEzjWLfxWW22"
      }
    },
    {
      "cell_type": "code",
      "source": [
        "X = data[:,1:]\n",
        "y = data[:,0]"
      ],
      "metadata": {
        "id": "bmiFt-NcWVLW"
      },
      "execution_count": null,
      "outputs": []
    },
    {
      "cell_type": "code",
      "source": [
        "X.shape"
      ],
      "metadata": {
        "colab": {
          "base_uri": "https://localhost:8080/"
        },
        "id": "ddihLX5jWeVk",
        "outputId": "6ff44dcf-01e1-46fb-e49d-0dc3808d4a2d"
      },
      "execution_count": null,
      "outputs": [
        {
          "output_type": "execute_result",
          "data": {
            "text/plain": [
              "(10000, 784)"
            ]
          },
          "metadata": {},
          "execution_count": 11
        }
      ]
    },
    {
      "cell_type": "markdown",
      "source": [
        "# Transform to 4D"
      ],
      "metadata": {
        "id": "RaiZymbGZGqz"
      }
    },
    {
      "cell_type": "code",
      "source": [
        "X = X.reshape(X.shape[0],1,28,28)"
      ],
      "metadata": {
        "id": "HioJDRs6Y2Cu"
      },
      "execution_count": null,
      "outputs": []
    },
    {
      "cell_type": "code",
      "source": [
        "X.shape  # Number of sample x channel x width x height"
      ],
      "metadata": {
        "colab": {
          "base_uri": "https://localhost:8080/"
        },
        "id": "t49Sn3AdZAsS",
        "outputId": "37880d2d-9d40-4bd8-907a-f02d0d67b9d8"
      },
      "execution_count": null,
      "outputs": [
        {
          "output_type": "execute_result",
          "data": {
            "text/plain": [
              "(10000, 1, 28, 28)"
            ]
          },
          "metadata": {},
          "execution_count": 13
        }
      ]
    },
    {
      "cell_type": "markdown",
      "source": [
        "# Four Important Steps to Use data in Pytorch"
      ],
      "metadata": {
        "id": "D32Tj6k_W422"
      }
    },
    {
      "cell_type": "code",
      "source": [
        "# Step 1: Convert to pytorch tensor\n",
        "X_t   = torch.tensor( X, dtype = torch.float32 )\n",
        "y_t = torch.tensor( y, dtype = torch.long)\n",
        "\n",
        "# Step 2: Perform Train Test Split and Normalize the data\n",
        "train_data, test_data, train_labels, test_labels = train_test_split(X_t, y_t, test_size = 0.1)\n",
        "\n",
        "train_data = train_data/torch.max(train_data)\n",
        "test_data  = test_data/torch.max(test_data)\n",
        "\n",
        "\n",
        "# Step 3: Convert into PyTorch Datasets\n",
        "X_train = TensorDataset(train_data,train_labels)\n",
        "X_test  = TensorDataset(test_data,test_labels)\n",
        "\n",
        "\n",
        "# Step 4: Move the data into dataloader objects\n",
        "batchsize    = 32\n",
        "train_loader = DataLoader(X_train, batch_size = batchsize, shuffle = True, drop_last=True)\n",
        "test_loader  = DataLoader(X_test, batch_size = X_test.tensors[0].shape[0])"
      ],
      "metadata": {
        "id": "uj7iUP8FWsg1"
      },
      "execution_count": null,
      "outputs": []
    },
    {
      "cell_type": "code",
      "source": [
        "for X,y in train_loader:\n",
        "  break\n",
        "print(X.shape)\n",
        "print(\" \")\n",
        "print(y.shape)"
      ],
      "metadata": {
        "colab": {
          "base_uri": "https://localhost:8080/"
        },
        "id": "U3QXWZjGZZv-",
        "outputId": "46c08360-a4da-4790-d822-3bf059c4e752"
      },
      "execution_count": null,
      "outputs": [
        {
          "output_type": "stream",
          "name": "stdout",
          "text": [
            "torch.Size([32, 1, 28, 28])\n",
            " \n",
            "torch.Size([32])\n"
          ]
        }
      ]
    },
    {
      "cell_type": "code",
      "source": [],
      "metadata": {
        "id": "uNQ3APMPHkbL"
      },
      "execution_count": null,
      "outputs": []
    },
    {
      "cell_type": "code",
      "source": [],
      "metadata": {
        "id": "yEbwAt3yHkd7"
      },
      "execution_count": null,
      "outputs": []
    },
    {
      "cell_type": "code",
      "source": [],
      "metadata": {
        "id": "G1F-IUP8Hkhr"
      },
      "execution_count": null,
      "outputs": []
    },
    {
      "cell_type": "markdown",
      "source": [
        "![Untitled.png](data:image/png;base64,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)"
      ],
      "metadata": {
        "id": "bkt2Bx-oHeKj"
      }
    },
    {
      "cell_type": "code",
      "source": [],
      "metadata": {
        "id": "5nB08AMkHl3S"
      },
      "execution_count": null,
      "outputs": []
    },
    {
      "cell_type": "code",
      "source": [],
      "metadata": {
        "id": "kNT5O7ouHl56"
      },
      "execution_count": null,
      "outputs": []
    },
    {
      "cell_type": "markdown",
      "metadata": {
        "id": "OK8Opkhgp0bO"
      },
      "source": [
        "# Create Convolutional Neural Network"
      ]
    },
    {
      "cell_type": "code",
      "execution_count": null,
      "metadata": {
        "id": "OHmVaG8elgfR"
      },
      "outputs": [],
      "source": [
        "class CNN(nn.Module):\n",
        "    def __init__(self):\n",
        "        super().__init__()\n",
        "\n",
        "        # Defining Convolution Layers\n",
        "\n",
        "        self.conv1 = nn.Conv2d(1, 10, 5, 1,1)\n",
        "        # 1 = channel,   10 = number of kernels,    5 = kernel_size,    1 = Stride,     1 = padding\n",
        "\n",
        "        # size = (28 - 5 + 2*1)/1 )+1 = 26  after convolution\n",
        "        # size = 26/2 = 13   after max pooling\n",
        "\n",
        "        self.conv2 = nn.Conv2d(10, 20, 5, 1,1)\n",
        "        # 10 = channels or featuremaps\n",
        "\n",
        "        # size= (13-5+2*1)/1 )+1 = 11\n",
        "        # size = 11/2 = np.floor(5.5) = 5   after max pooling\n",
        "\n",
        "        # There are 20 kernels in the conv layer before the FC Layer\n",
        "        # The dim of feature map after conv2 and max pooling will be 5*5*20\n",
        "        # We have 20 feature maps each of size 5 x 5.\n",
        "\n",
        "      # Defining FC layer and output (classification) layer\n",
        "\n",
        "        #self.fc = nn.Linear(5*5*20, 64)\n",
        "        self.fc = nn.LazyLinear(64)\n",
        "        self.output = nn.Linear(64,10)\n",
        "\n",
        "    def forward(self, X):\n",
        "        X = F.relu(self.conv1(X))\n",
        "        X = F.max_pool2d(X, 2, 2)\n",
        "        X = F.relu(self.conv2(X))\n",
        "        X = F.max_pool2d(X, 2, 2)\n",
        "        #X = X.view(-1, 5*5*20) # Infer the first dimension\n",
        "        X = torch.flatten(X, 1) # Will be used with LazyLinear\n",
        "        X = self.fc(X)\n",
        "        X = F.relu(X)\n",
        "        X = self.output(X)\n",
        "        return X\n",
        "\n"
      ]
    },
    {
      "cell_type": "markdown",
      "source": [
        "# Create the instance of the model"
      ],
      "metadata": {
        "id": "q_8bDcgTluXx"
      }
    },
    {
      "cell_type": "code",
      "execution_count": null,
      "metadata": {
        "id": "SKDyFq-qlgfR",
        "colab": {
          "base_uri": "https://localhost:8080/"
        },
        "outputId": "f5e0e225-4a90-4cdd-bb17-d6fd79cee153"
      },
      "outputs": [
        {
          "output_type": "stream",
          "name": "stderr",
          "text": [
            "/usr/local/lib/python3.10/dist-packages/torch/nn/modules/lazy.py:180: UserWarning: Lazy modules are a new feature under heavy development so changes to the API or functionality can happen at any moment.\n",
            "  warnings.warn('Lazy modules are a new feature under heavy development '\n"
          ]
        },
        {
          "output_type": "execute_result",
          "data": {
            "text/plain": [
              "CNN(\n",
              "  (conv1): Conv2d(1, 10, kernel_size=(5, 5), stride=(1, 1), padding=(1, 1))\n",
              "  (conv2): Conv2d(10, 20, kernel_size=(5, 5), stride=(1, 1), padding=(1, 1))\n",
              "  (fc): LazyLinear(in_features=0, out_features=64, bias=True)\n",
              "  (output): Linear(in_features=64, out_features=10, bias=True)\n",
              ")"
            ]
          },
          "metadata": {},
          "execution_count": 17
        }
      ],
      "source": [
        "model = CNN()\n",
        "model"
      ]
    },
    {
      "cell_type": "markdown",
      "source": [
        "# Count the total number of parameters in model"
      ],
      "metadata": {
        "id": "mSarh_ocl0IY"
      }
    },
    {
      "cell_type": "code",
      "execution_count": null,
      "metadata": {
        "id": "vLP6nMVUEews",
        "colab": {
          "base_uri": "https://localhost:8080/"
        },
        "outputId": "6014dfb3-b016-4d0e-9838-e14f4907a9b2"
      },
      "outputs": [
        {
          "output_type": "stream",
          "name": "stdout",
          "text": [
            "----------------------------------------------------------------\n",
            "        Layer (type)               Output Shape         Param #\n",
            "================================================================\n",
            "            Conv2d-1           [-1, 10, 26, 26]             260\n",
            "            Conv2d-2           [-1, 20, 11, 11]           5,020\n",
            "            Linear-3                   [-1, 64]          32,064\n",
            "            Linear-4                   [-1, 10]             650\n",
            "================================================================\n",
            "Total params: 37,994\n",
            "Trainable params: 37,994\n",
            "Non-trainable params: 0\n",
            "----------------------------------------------------------------\n",
            "Input size (MB): 0.00\n",
            "Forward/backward pass size (MB): 0.07\n",
            "Params size (MB): 0.14\n",
            "Estimated Total Size (MB): 0.22\n",
            "----------------------------------------------------------------\n"
          ]
        }
      ],
      "source": [
        "summary(model.cuda(),(1,28,28))"
      ]
    },
    {
      "cell_type": "code",
      "source": [
        "#Parameters in first layer\n",
        "# 1 *5*5*10 + 10 = 260   channel * filterdim * outputdim + bias\n",
        "#Parameters in second layer\n",
        "# 10 * 5 * 5 * 20 + 20 = 5020\n",
        "#Paremeter in fc\n",
        "# 20*5*5*64 + 64 = 32064\n",
        "#Parameters in output layer\n",
        "# 64 * 10 + 10  = 650"
      ],
      "metadata": {
        "id": "zXfOYopM6Qr7"
      },
      "execution_count": null,
      "outputs": []
    },
    {
      "cell_type": "markdown",
      "source": [
        "# Training and Testing the Model"
      ],
      "metadata": {
        "id": "22blofaxf57e"
      }
    },
    {
      "cell_type": "code",
      "source": [
        "epochs = 41\n",
        "\n",
        "# loss function\n",
        "\n",
        "lossfunc = nn.CrossEntropyLoss()\n",
        "\n",
        "# optimizer\n",
        "\n",
        "optimizer = torch.optim.SGD(model.parameters(), momentum = 0.9, lr = 0.01)\n",
        "\n",
        "model.to(device) # placing a model on GPU\n",
        "\n",
        "  # Initialize losses and Accuracies\n",
        "\n",
        "losses    = torch.zeros(epochs)\n",
        "trainAcc  = []\n",
        "testAcc   = []\n",
        "\n",
        "\n",
        "# loop over epochs\n",
        "\n",
        "for epoch in range(epochs):\n",
        " model.train()\n",
        "\n",
        " # loop over training data batches\n",
        "\n",
        " batchAcc  = []\n",
        " batchLoss = []\n",
        " for X,y in train_loader:\n",
        "\n",
        "  X = X.to(device) # Placing features on device\n",
        "  y = y.to(device) # placing labels on device\n",
        "\n",
        "  ypred = model(X)\n",
        "  loss = lossfunc(ypred,y)\n",
        "\n",
        "\n",
        "  optimizer.zero_grad()\n",
        "  loss.backward()\n",
        "  optimizer.step()\n",
        "\n",
        "  # Append batchloss\n",
        "\n",
        "  batchLoss.append(loss.item())\n",
        "\n",
        "  ypred = ypred.cpu() # Back to cpu\n",
        "  y = y.cpu()\n",
        "\n",
        "  # compute batch accuracy\n",
        "\n",
        "  acc = 100 * torch.mean((torch.argmax(ypred, dim=1) == y).float())\n",
        "  batchAcc.append(acc)\n",
        "# Batch loop concluded\n",
        "\n",
        "# Average training accuracy (Outside the batchloop)\n",
        "\n",
        " trainAcc.append(np.mean(batchAcc))\n",
        "\n",
        "# Losses through epochs\n",
        "\n",
        " losses[epoch] = np.mean(batchLoss)\n",
        "\n",
        "# TESTING the model\n",
        "\n",
        " model.eval()\n",
        " X,y = next(iter(test_loader))\n",
        " X = X.to(device)\n",
        " y = y.to(device)\n",
        "\n",
        " with torch.no_grad(): #This step  Deactivating autogradient\n",
        "  ypred = model(X)\n",
        "  ypred = ypred.cpu()\n",
        "  y = y.cpu()\n",
        "\n",
        " # Appending test accuracy\n",
        "\n",
        "  testAcc.append(100 * torch.mean((torch.argmax(ypred,dim=1)==y).float()))\n",
        "  if (epoch % 10) == 0:\n",
        "\n",
        "        print(f' epochs : {epoch}  loss : {loss : 2.2f}')\n",
        "\n"
      ],
      "metadata": {
        "colab": {
          "base_uri": "https://localhost:8080/"
        },
        "id": "OUoBHSUPfQb3",
        "outputId": "8d73e85c-f62d-47a7-a5ac-b10dbc0290d2"
      },
      "execution_count": null,
      "outputs": [
        {
          "output_type": "stream",
          "name": "stdout",
          "text": [
            " epochs : 0  loss :  0.39\n",
            " epochs : 10  loss :  0.03\n",
            " epochs : 20  loss :  0.00\n",
            " epochs : 30  loss :  0.00\n",
            " epochs : 40  loss :  0.00\n"
          ]
        }
      ]
    },
    {
      "cell_type": "markdown",
      "source": [
        "# Visualizing the Model Performance"
      ],
      "metadata": {
        "id": "R10FgaB6gDBv"
      }
    },
    {
      "cell_type": "code",
      "source": [
        "fig,ax = plt.subplots(1,2,figsize=(18,6))\n",
        "\n",
        "ax[0].plot(losses, 'g', lw = 3, label = 'Train')\n",
        "ax[0].set_xlabel('Epochs', fontsize = 15)\n",
        "ax[0].set_ylabel('Loss', fontsize = 15)\n",
        "ax[0].legend(fontsize = 15)\n",
        "ax[0].set_title('Training Loss', fontsize = 15)\n",
        "\n",
        "ax[1].plot(trainAcc, label ='Train', lw = 3)\n",
        "ax[1].plot(testAcc, label ='Test', lw = 3)\n",
        "ax[1].set_xlabel('Epochs', fontsize = 15)\n",
        "ax[1].set_ylabel('Accuracy (%)', fontsize = 15)\n",
        "ax[1].set_ylim([10,110])\n",
        "ax[1].set_title(f'Train Accuracy: {trainAcc[-1]:.2f}% \\n Test Accuracy: {testAcc[-1]:.2f}%', fontsize = 15)\n",
        "ax[1].legend(fontsize = 15)\n",
        "\n",
        "plt.show()"
      ],
      "metadata": {
        "id": "MDCfEkZ1xWJW",
        "colab": {
          "base_uri": "https://localhost:8080/",
          "height": 454
        },
        "outputId": "6e0702de-ceed-4640-96a0-2e20edd1c07d"
      },
      "execution_count": null,
      "outputs": [
        {
          "output_type": "display_data",
          "data": {
            "text/plain": [
              "<Figure size 1800x600 with 2 Axes>"
            ],
            "image/png": "[encoded data removed]"
          },
          "metadata": {}
        }
      ]
    }
  ],
  "metadata": {
    "colab": {
      "provenance": [],
      "gpuType": "T4"
    },
    "kernelspec": {
      "display_name": "Python 3",
      "name": "python3"
    },
    "language_info": {
      "codemirror_mode": {
        "name": "ipython",
        "version": 3
      },
      "file_extension": ".py",
      "mimetype": "text/x-python",
      "name": "python",
      "nbconvert_exporter": "python",
      "pygments_lexer": "ipython3",
      "version": "3.9.7"
    },
    "accelerator": "GPU"
  },
  "nbformat": 4,
  "nbformat_minor": 0
}