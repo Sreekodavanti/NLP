{
  "cells": [
    {
      "cell_type": "code",
      "execution_count": null,
      "id": "782aa768",
      "metadata": {
        "id": "782aa768"
      },
      "outputs": [],
      "source": [
        "import numpy as np\n",
        "import torch\n",
        "import torch.nn as nn\n",
        "import torch.nn.functional as F\n",
        "import matplotlib.pyplot as plt\n",
        "from matplotlib import style\n",
        "style.use('dark_background')"
      ]
    },
    {
      "cell_type": "code",
      "execution_count": null,
      "id": "00f77fe2",
      "metadata": {
        "colab": {
          "base_uri": "https://localhost:8080/"
        },
        "id": "00f77fe2",
        "outputId": "208bdaa0-cdf5-46e0-9d2e-fb9a790854f4"
      },
      "outputs": [
        {
          "data": {
            "text/plain": [
              "device(type='cpu')"
            ]
          },
          "execution_count": 2,
          "metadata": {},
          "output_type": "execute_result"
        }
      ],
      "source": [
        "device = torch.device('cuda' if torch.cuda.is_available() else 'cpu')\n",
        "device"
      ]
    },
    {
      "cell_type": "markdown",
      "id": "7d16c2ce",
      "metadata": {
        "id": "7d16c2ce"
      },
      "source": [
        "# Generate Grayscale images of size 64 x 64 in the form of frequency domain low pass filter"
      ]
    },
    {
      "cell_type": "code",
      "execution_count": null,
      "id": "9aa7552e",
      "metadata": {
        "id": "9aa7552e"
      },
      "outputs": [],
      "source": [
        "num_Images = 4000\n",
        "img_Size = 64\n",
        "crow, ccol = img_Size/2 , img_Size/2\n",
        "center = [crow, ccol]\n",
        "\n",
        "imgs = torch.zeros(num_Images,1,img_Size,img_Size)\n",
        "\n",
        "for i in range(num_Images):\n",
        "    r = np.random.randint(15, 30, (1,))\n",
        "\n",
        "    x, y = np.ogrid[:img_Size, :img_Size]\n",
        "    mask = np.zeros((img_Size, img_Size))\n",
        "    mask_area = (x - center[0]) ** 2 + (y - center[1]) ** 2 <= r*r\n",
        "    mask[mask_area] = 1\n",
        "    imgs[i,:,:,:] = torch.Tensor(mask).view(1,img_Size,img_Size)"
      ]
    },
    {
      "cell_type": "code",
      "execution_count": null,
      "id": "dfa399f8",
      "metadata": {
        "colab": {
          "base_uri": "https://localhost:8080/"
        },
        "id": "dfa399f8",
        "outputId": "5274304d-7ec4-4a51-d985-6907da364ffe"
      },
      "outputs": [
        {
          "data": {
            "text/plain": [
              "torch.Size([4000, 1, 64, 64])"
            ]
          },
          "execution_count": 4,
          "metadata": {},
          "output_type": "execute_result"
        }
      ],
      "source": [
        "imgs.shape"
      ]
    },
    {
      "cell_type": "markdown",
      "id": "508a2b2d",
      "metadata": {
        "id": "508a2b2d"
      },
      "source": [
        "# Visualizing the images"
      ]
    },
    {
      "cell_type": "code",
      "execution_count": null,
      "id": "e367e71e",
      "metadata": {
        "colab": {
          "base_uri": "https://localhost:8080/",
          "height": 499
        },
        "id": "e367e71e",
        "outputId": "5014bb78-fbc8-4be1-fde6-f26445cc2d33"
      },
      "outputs": [
        {
          "data": {
            "image/png": "[encoded data removed]",
            "text/plain": [
              "<Figure size 600x600 with 2 Axes>"
            ]
          },
          "metadata": {},
          "output_type": "display_data"
        }
      ],
      "source": [
        "# visualize some images\n",
        "fig,axis = plt.subplots(2,1,figsize=(6,6))\n",
        "\n",
        "for i,ax in enumerate(axis.flatten()):\n",
        "  which_img = np.random.randint(num_Images)\n",
        "  mask = np.squeeze( imgs[which_img,:,:] )\n",
        "  ax.imshow(mask,vmin=0,vmax=1,cmap='gray') # cmap = 'gray' or 'rainbow'\n",
        "  ax.set_xticks([])\n",
        "  ax.set_yticks([])\n",
        "\n",
        "plt.show()"
      ]
    },
    {
      "cell_type": "code",
      "execution_count": null,
      "id": "210701da",
      "metadata": {
        "id": "210701da"
      },
      "outputs": [],
      "source": [
        "# Code inspired from https://pytorch.org/tutorials/beginner/dcgan_faces_tutorial.html"
      ]
    },
    {
      "cell_type": "markdown",
      "id": "86bf4ecb",
      "metadata": {
        "id": "86bf4ecb"
      },
      "source": [
        "# Create Discriminator Class"
      ]
    },
    {
      "cell_type": "code",
      "execution_count": null,
      "id": "879d6e3d",
      "metadata": {
        "id": "879d6e3d"
      },
      "outputs": [],
      "source": [
        "class discriminator(nn.Module):\n",
        "  def __init__(self):\n",
        "    super().__init__()\n",
        "\n",
        "\n",
        "    self.conv1 = nn.Conv2d(  1, 64, 4, 2, 1, bias=False)\n",
        "    self.conv2 = nn.Conv2d( 64,128, 4, 2, 1, bias=False)\n",
        "    self.conv3 = nn.Conv2d(128,256, 4, 2, 1, bias=False)\n",
        "    self.conv4 = nn.Conv2d(256,512, 4, 2, 1, bias=False)\n",
        "    self.conv5 = nn.Conv2d(512,  1, 4, 1, 0, bias=False)\n",
        "\n",
        "    self.bn2 = nn.BatchNorm2d(128)\n",
        "    self.bn3 = nn.BatchNorm2d(256)\n",
        "    self.bn4 = nn.BatchNorm2d(512)\n",
        "\n",
        "  def forward(self,x):\n",
        "\n",
        "    x = F.leaky_relu( self.conv1(x) ,.2)\n",
        "    x = F.leaky_relu( self.conv2(x) ,.2)\n",
        "    x = self.bn2(x)\n",
        "    x = F.leaky_relu( self.conv3(x) ,.2)\n",
        "    x = self.bn3(x)\n",
        "    x = F.leaky_relu( self.conv4(x) ,.2)\n",
        "    x = self.bn4(x)\n",
        "    return torch.sigmoid( self.conv5(x) ).view(-1,1)"
      ]
    },
    {
      "cell_type": "markdown",
      "id": "5f913f05",
      "metadata": {
        "id": "5f913f05"
      },
      "source": [
        "# Check Discriminator"
      ]
    },
    {
      "cell_type": "code",
      "execution_count": null,
      "id": "d979a066",
      "metadata": {
        "colab": {
          "base_uri": "https://localhost:8080/"
        },
        "id": "d979a066",
        "outputId": "f13406d9-2e91-49af-9e83-41d2f34e41e1"
      },
      "outputs": [
        {
          "name": "stdout",
          "output_type": "stream",
          "text": [
            "torch.Size([10, 1])\n"
          ]
        }
      ],
      "source": [
        "disModel = discriminator()\n",
        "out = disModel(torch.randn(10,1,64,64))\n",
        "print(out.shape)"
      ]
    },
    {
      "cell_type": "markdown",
      "id": "dd22446f",
      "metadata": {
        "id": "dd22446f"
      },
      "source": [
        "# Create Generator Class"
      ]
    },
    {
      "cell_type": "code",
      "execution_count": null,
      "id": "278af506",
      "metadata": {
        "id": "278af506"
      },
      "outputs": [],
      "source": [
        "class generator(nn.Module):\n",
        "  def __init__(self):\n",
        "    super().__init__()\n",
        "\n",
        "    self.conv1 = nn.ConvTranspose2d(100,512, 4, 1, 0, bias=False)\n",
        "    self.conv2 = nn.ConvTranspose2d(512,256, 4, 2, 1, bias=False)\n",
        "    self.conv3 = nn.ConvTranspose2d(256,128, 4, 2, 1, bias=False)\n",
        "    self.conv4 = nn.ConvTranspose2d(128, 64, 4, 2, 1, bias=False)\n",
        "    self.conv5 = nn.ConvTranspose2d(64,   1, 4, 2, 1, bias=False)\n",
        "\n",
        "    self.bn1 = nn.BatchNorm2d(512)\n",
        "    self.bn2 = nn.BatchNorm2d(256)\n",
        "    self.bn3 = nn.BatchNorm2d(128)\n",
        "    self.bn4 = nn.BatchNorm2d( 64)\n",
        "\n",
        "\n",
        "  def forward(self,x):\n",
        "    x = F.relu( self.bn1(self.conv1(x)) )\n",
        "    x = F.relu( self.bn2(self.conv2(x)) )\n",
        "    x = F.relu( self.bn3(self.conv3(x)) )\n",
        "    x = F.relu( self.bn4(self.conv4(x)) )\n",
        "    x = torch.tanh( self.conv5(x) )\n",
        "    return x"
      ]
    },
    {
      "cell_type": "markdown",
      "id": "8347743c",
      "metadata": {
        "id": "8347743c"
      },
      "source": [
        "# See what generator is producing before training"
      ]
    },
    {
      "cell_type": "code",
      "execution_count": null,
      "id": "fb050fdf",
      "metadata": {
        "colab": {
          "base_uri": "https://localhost:8080/",
          "height": 449
        },
        "id": "fb050fdf",
        "outputId": "8f7acf4a-d472-4061-aa36-6f5c55f4a144"
      },
      "outputs": [
        {
          "name": "stdout",
          "output_type": "stream",
          "text": [
            "torch.Size([10, 1, 64, 64])\n"
          ]
        },
        {
          "data": {
            "image/png": "[encoded data removed]",
            "text/plain": [
              "<Figure size 640x480 with 1 Axes>"
            ]
          },
          "metadata": {},
          "output_type": "display_data"
        }
      ],
      "source": [
        "genModel = generator()\n",
        "out = genModel(torch.randn(10,100,1,1))\n",
        "print(out.shape)\n",
        "plt.imshow(out[0,:,:,:].squeeze().detach().numpy());"
      ]
    },
    {
      "cell_type": "markdown",
      "id": "cab71136",
      "metadata": {
        "id": "cab71136"
      },
      "source": [
        "# Define Loss Function"
      ]
    },
    {
      "cell_type": "code",
      "execution_count": null,
      "id": "879425e0",
      "metadata": {
        "id": "879425e0"
      },
      "outputs": [],
      "source": [
        "lossfunc = nn.BCELoss()"
      ]
    },
    {
      "cell_type": "markdown",
      "id": "671598f5",
      "metadata": {
        "id": "671598f5"
      },
      "source": [
        "# Push the Models to GPU"
      ]
    },
    {
      "cell_type": "code",
      "execution_count": null,
      "id": "7a2aed62",
      "metadata": {
        "id": "7a2aed62"
      },
      "outputs": [],
      "source": [
        "disModel = disModel.to(device)\n",
        "genModel = genModel.to(device)"
      ]
    },
    {
      "cell_type": "markdown",
      "id": "978d2a5a",
      "metadata": {
        "id": "978d2a5a"
      },
      "source": [
        "# Set the Optimizers"
      ]
    },
    {
      "cell_type": "code",
      "execution_count": null,
      "id": "5b623167",
      "metadata": {
        "id": "5b623167"
      },
      "outputs": [],
      "source": [
        "dis_optimizer = torch.optim.Adam(disModel.parameters(), lr=.0002, betas=(.5,.999))\n",
        "gen_optimizer = torch.optim.Adam(genModel.parameters(), lr=.0002, betas=(.5,.999))"
      ]
    },
    {
      "cell_type": "markdown",
      "id": "31a4b476",
      "metadata": {
        "id": "31a4b476"
      },
      "source": [
        "# Train the DCGAN"
      ]
    },
    {
      "cell_type": "code",
      "execution_count": null,
      "id": "75236da5",
      "metadata": {
        "colab": {
          "background_save": true,
          "base_uri": "https://localhost:8080/"
        },
        "id": "75236da5",
        "outputId": "a1a34e9b-74fb-43e1-cc83-b4673bb8483d"
      },
      "outputs": [
        {
          "name": "stdout",
          "output_type": "stream",
          "text": [
            " Epochs : 0/2001\n"
          ]
        }
      ],
      "source": [
        "epochs = 2001\n",
        "batchsize = 32\n",
        "losses  = np.zeros((epochs,2)) # (num_epochs,2) because we have to train two models i.e generator and discriminator.\n",
        "dis_output = np.zeros((epochs,2)) # dis_output = discriminator decisions\n",
        "\n",
        "for epoch in range(epochs):\n",
        "\n",
        "  rand_idx = np.random.choice(imgs.shape[0], size= batchsize)\n",
        "  real_images = imgs[rand_idx,:].to(device) # Real Images are generated from the real data (dataT)\n",
        "  fake_images = genModel( torch.randn(batchsize,100,1,1).to(device) ) # Fake images are generated from the output of generator\n",
        "                                                                 # by sending random input number to generator.\n",
        "\n",
        "\n",
        "  # Creating Labels used for real and fake images\n",
        "\n",
        "  real_labels = torch.ones(batchsize,1).to(device) # All ones means true because they are real labels\n",
        "  fake_labels = torch.zeros(batchsize,1).to(device) # All zeros means false because they are fake labels\n",
        "\n",
        "\n",
        "  # TRAIN THE DISCRIMINATOR\n",
        "\n",
        "  # Forward pass and loss for REAL Images   (step1 of discriminator training)\n",
        "\n",
        "  ypred_real   = disModel(real_images)                 # REAL images into discriminator\n",
        "  dis_loss_real = lossfunc(ypred_real, real_labels)    # All labels are 1. In order to reduce loss model should learn to predict 1\n",
        "                                                       # for real images\n",
        "\n",
        "  # In the above step1 of training discriminator, we pass all real images to discriminator\n",
        "  # and the comparing Ypred_real (predictions of discriminator) with real_labesl(all ones).\n",
        "  # This is our loss which we have to minimize.\n",
        "\n",
        "\n",
        "\n",
        "  # Forward pass and loss for FAKE Images (step 2 of discriminator training)\n",
        "\n",
        "  ypred_fake   = disModel(fake_images)              # FAKE images into discriminator\n",
        "  dis_loss_fake = lossfunc(ypred_fake, fake_labels)   # All labels are 0. In order to reduce loss model should learn to predict 0\n",
        "                                                      # for fake images\n",
        "\n",
        "  # Calculate combined loss.\n",
        "\n",
        "  dis_loss = dis_loss_real + dis_loss_fake\n",
        "  losses[epoch,0]  = dis_loss.item()   # loss will be accumulated along the first column\n",
        "  dis_output[epoch,0] = torch.mean((ypred_real>.5).float()).detach() # This line is storing the model decision.\n",
        "\n",
        "\n",
        "  # Backpropagation for discriminator\n",
        "\n",
        "  dis_optimizer.zero_grad()\n",
        "  dis_loss.backward()\n",
        "  dis_optimizer.step()\n",
        "\n",
        "\n",
        "\n",
        "\n",
        "  # TRAIN THE GENERATOR\n",
        "\n",
        "  # Create the fake images and compute loss\n",
        "\n",
        "  fake_images = genModel( torch.randn(batchsize,100,1,1).to(device) )\n",
        "  ypred_fake   = disModel(fake_images)\n",
        "\n",
        "  # In above two lines of code, we generate fake images from the generator\n",
        "  # and pass the fake images through discriminator to get the predictions.\n",
        "\n",
        "\n",
        "\n",
        "\n",
        "  # Compute loss and accuracy\n",
        "  gen_loss = lossfunc(ypred_fake, real_labels)   # Here we comparing the predictions of\n",
        "                                                 # of discriminator with the real_labels to get the loss of generator\n",
        "                                                 # In this step we are trying to deceive to discriminator that our images are real. if\n",
        "                                                 # discriminator accepts this then there is no loss, otherwise we need to train generator\n",
        "                                                 # more so that it can fool the discriminator.\n",
        "  losses[epoch,1]  = gen_loss.item()\n",
        "  dis_output[epoch,1] = torch.mean((ypred_fake>.5).float()).detach()\n",
        "\n",
        "  # Backpropagation of generator.\n",
        "\n",
        "  gen_optimizer.zero_grad()\n",
        "  gen_loss.backward()\n",
        "  gen_optimizer.step()\n",
        "\n",
        "\n",
        "  # printing the epochs\n",
        "  if (epoch)%50==0:\n",
        "    print(f' Epochs : {epoch}/{epochs}')\n",
        "\n"
      ]
    },
    {
      "cell_type": "markdown",
      "id": "ec5dcdca",
      "metadata": {
        "id": "ec5dcdca"
      },
      "source": [
        "# Visualize the performance"
      ]
    },
    {
      "cell_type": "code",
      "execution_count": null,
      "id": "ae694573",
      "metadata": {
        "id": "ae694573"
      },
      "outputs": [],
      "source": [
        "plt.figure(figsize=(18,7))\n",
        "plt.plot(losses)\n",
        "plt.xlabel('Epochs', fontsize = 15)\n",
        "plt.ylabel('Loss', fontsize = 15)\n",
        "plt.title('Model loss', fontsize = 25)\n",
        "plt.legend(['Discrimator','Generator'])\n",
        "# plt.xlim([9000,15000])\n",
        "# plt.ylim([0,5])\n",
        "plt.show()"
      ]
    },
    {
      "cell_type": "code",
      "execution_count": null,
      "id": "283ebcd5",
      "metadata": {
        "id": "283ebcd5"
      },
      "outputs": [],
      "source": [
        "plt.figure(figsize=(18,7))\n",
        "plt.plot(dis_output) # This shows the probability with which discriminator predicts that the data is real or fake\n",
        "plt.xlabel('Epochs', fontsize = 15)\n",
        "plt.ylabel('Probablity',fontsize = 15)\n",
        "plt.title('Discriminator output', fontsize = 25)\n",
        "plt.legend(['Real','Fake'], fontsize = 15)\n",
        "plt.show()"
      ]
    },
    {
      "cell_type": "markdown",
      "id": "498ddf9b",
      "metadata": {
        "id": "498ddf9b"
      },
      "source": [
        "# Test the generator on Random Samples"
      ]
    },
    {
      "cell_type": "code",
      "execution_count": null,
      "id": "c0fc74c0",
      "metadata": {
        "id": "c0fc74c0"
      },
      "outputs": [],
      "source": [
        "Noise = torch.randn(batchsize,100,1,1)"
      ]
    },
    {
      "cell_type": "code",
      "execution_count": null,
      "id": "b9b9488d",
      "metadata": {
        "id": "b9b9488d"
      },
      "outputs": [],
      "source": [
        "plt.imshow(Noise.squeeze())"
      ]
    },
    {
      "cell_type": "code",
      "execution_count": null,
      "id": "a99e1535",
      "metadata": {
        "id": "a99e1535"
      },
      "outputs": [],
      "source": [
        "genModel.eval()\n",
        "fake_data = genModel(Noise.to(device))\n",
        "fake_data = fake_data.cpu()"
      ]
    },
    {
      "cell_type": "code",
      "execution_count": null,
      "id": "12cb6c2f",
      "metadata": {
        "id": "12cb6c2f"
      },
      "outputs": [],
      "source": [
        "fig,axis = plt.subplots(3,6,figsize=(12,6))\n",
        "for i,ax in enumerate(axis.flatten()):\n",
        "  ax.imshow(fake_data[i,].detach().squeeze(),cmap='gray')\n",
        "  ax.axis('off')\n",
        "plt.show()"
      ]
    },
    {
      "cell_type": "code",
      "execution_count": null,
      "id": "08943a0a",
      "metadata": {
        "id": "08943a0a"
      },
      "outputs": [],
      "source": []
    }
  ],
  "metadata": {
    "colab": {
      "provenance": []
    },
    "kernelspec": {
      "display_name": "Python 3 (ipykernel)",
      "language": "python",
      "name": "python3"
    },
    "language_info": {
      "codemirror_mode": {
        "name": "ipython",
        "version": 3
      },
      "file_extension": ".py",
      "mimetype": "text/x-python",
      "name": "python",
      "nbconvert_exporter": "python",
      "pygments_lexer": "ipython3",
      "version": "3.9.7"
    }
  },
  "nbformat": 4,
  "nbformat_minor": 5
}