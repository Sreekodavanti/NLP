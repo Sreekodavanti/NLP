{
  "nbformat": 4,
  "nbformat_minor": 0,
  "metadata": {
    "colab": {
      "provenance": []
    },
    "kernelspec": {
      "name": "python3",
      "display_name": "Python 3"
    },
    "language_info": {
      "name": "python"
    }
  },
  "cells": [
    {
      "cell_type": "markdown",
      "source": [
        "### **Asignment - 01**"
      ],
      "metadata": {
        "id": "5yFVNdVJBpL6"
      }
    },
    {
      "cell_type": "markdown",
      "source": [
        "### Import the Necessary libraries\n",
        "\n",
        "\n"
      ],
      "metadata": {
        "id": "mXxYbzNWmsEA"
      }
    },
    {
      "cell_type": "code",
      "execution_count": 1,
      "metadata": {
        "id": "Azr35fbrUurE"
      },
      "outputs": [],
      "source": [
        "import numpy as np\n",
        "import pandas as pd\n",
        "import matplotlib.pyplot as plt\n",
        "from matplotlib import style\n",
        "style.use('dark_background')\n",
        "from sklearn.feature_extraction.text import CountVectorizer\n",
        "from sklearn.feature_extraction.text import TfidfVectorizer\n",
        "from sklearn.naive_bayes import MultinomialNB\n",
        "from sklearn.model_selection import train_test_split\n",
        "import nltk\n",
        "from nltk import word_tokenize\n",
        "from nltk.stem import WordNetLemmatizer, PorterStemmer\n",
        "from nltk.corpus import wordnet"
      ]
    },
    {
      "cell_type": "markdown",
      "source": [
        "#### Download the NLTK sets."
      ],
      "metadata": {
        "id": "C_-UAbRtm10L"
      }
    },
    {
      "cell_type": "code",
      "source": [
        "nltk.download(\"wordnet\") # It helps find conceptual relationship between the words\n",
        "nltk.download('punkt') # It is pretrained tokenizer for English\n",
        "nltk.download('averaged_perceptron_tagger') # Pretrained english POS Tagger\n",
        "nltk.download('omw-1.4') # Open multilingual wordnet. The goal is to make it easy to use wordnets in multiple languages."
      ],
      "metadata": {
        "colab": {
          "base_uri": "https://localhost:8080/"
        },
        "id": "LCGD3nAzUyz9",
        "outputId": "9933f89a-c3da-4765-b82d-33b5cd9d21a7"
      },
      "execution_count": 2,
      "outputs": [
        {
          "output_type": "stream",
          "name": "stderr",
          "text": [
            "[nltk_data] Downloading package wordnet to /root/nltk_data...\n",
            "[nltk_data] Downloading package punkt to /root/nltk_data...\n",
            "[nltk_data]   Unzipping tokenizers/punkt.zip.\n",
            "[nltk_data] Downloading package averaged_perceptron_tagger to\n",
            "[nltk_data]     /root/nltk_data...\n",
            "[nltk_data]   Unzipping taggers/averaged_perceptron_tagger.zip.\n",
            "[nltk_data] Downloading package omw-1.4 to /root/nltk_data...\n"
          ]
        },
        {
          "output_type": "execute_result",
          "data": {
            "text/plain": [
              "True"
            ]
          },
          "metadata": {},
          "execution_count": 2
        }
      ]
    },
    {
      "cell_type": "markdown",
      "source": [
        "#### Read the dataset"
      ],
      "metadata": {
        "id": "r0SEcPlTm8LI"
      }
    },
    {
      "cell_type": "code",
      "source": [
        "df = pd.read_csv('bbc-text.csv')"
      ],
      "metadata": {
        "id": "kmU8wrmoU1GH"
      },
      "execution_count": 3,
      "outputs": []
    },
    {
      "cell_type": "markdown",
      "source": [
        "Print the head of the dataset"
      ],
      "metadata": {
        "id": "IdbCcLb9m-9D"
      }
    },
    {
      "cell_type": "code",
      "source": [
        "df.head()"
      ],
      "metadata": {
        "colab": {
          "base_uri": "https://localhost:8080/",
          "height": 206
        },
        "id": "18z7YuXeVTEx",
        "outputId": "c82f5279-5209-4718-8bf8-58ee8a75a3c4"
      },
      "execution_count": 4,
      "outputs": [
        {
          "output_type": "execute_result",
          "data": {
            "text/plain": [
              "        category                                               text\n",
              "0           tech  tv future in the hands of viewers with home th...\n",
              "1       business  worldcom boss  left books alone  former worldc...\n",
              "2          sport  tigers wary of farrell  gamble  leicester say ...\n",
              "3          sport  yeading face newcastle in fa cup premiership s...\n",
              "4  entertainment  ocean s twelve raids box office ocean s twelve..."
            ],
            "text/html": [
              "\n",
              "  <div id=\"df-fa344b7f-6553-42fc-81c0-c86341e38051\" class=\"colab-df-container\">\n",
              "    <div>\n",
              "<style scoped>\n",
              "    .dataframe tbody tr th:only-of-type {\n",
              "        vertical-align: middle;\n",
              "    }\n",
              "\n",
              "    .dataframe tbody tr th {\n",
              "        vertical-align: top;\n",
              "    }\n",
              "\n",
              "    .dataframe thead th {\n",
              "        text-align: right;\n",
              "    }\n",
              "</style>\n",
              "<table border=\"1\" class=\"dataframe\">\n",
              "  <thead>\n",
              "    <tr style=\"text-align: right;\">\n",
              "      <th></th>\n",
              "      <th>category</th>\n",
              "      <th>text</th>\n",
              "    </tr>\n",
              "  </thead>\n",
              "  <tbody>\n",
              "    <tr>\n",
              "      <th>0</th>\n",
              "      <td>tech</td>\n",
              "      <td>tv future in the hands of viewers with home th...</td>\n",
              "    </tr>\n",
              "    <tr>\n",
              "      <th>1</th>\n",
              "      <td>business</td>\n",
              "      <td>worldcom boss  left books alone  former worldc...</td>\n",
              "    </tr>\n",
              "    <tr>\n",
              "      <th>2</th>\n",
              "      <td>sport</td>\n",
              "      <td>tigers wary of farrell  gamble  leicester say ...</td>\n",
              "    </tr>\n",
              "    <tr>\n",
              "      <th>3</th>\n",
              "      <td>sport</td>\n",
              "      <td>yeading face newcastle in fa cup premiership s...</td>\n",
              "    </tr>\n",
              "    <tr>\n",
              "      <th>4</th>\n",
              "      <td>entertainment</td>\n",
              "      <td>ocean s twelve raids box office ocean s twelve...</td>\n",
              "    </tr>\n",
              "  </tbody>\n",
              "</table>\n",
              "</div>\n",
              "    <div class=\"colab-df-buttons\">\n",
              "\n",
              "  <div class=\"colab-df-container\">\n",
              "    <button class=\"colab-df-convert\" onclick=\"convertToInteractive('df-fa344b7f-6553-42fc-81c0-c86341e38051')\"\n",
              "            title=\"Convert this dataframe to an interactive table.\"\n",
              "            style=\"display:none;\">\n",
              "\n",
              "  <svg xmlns=\"http://www.w3.org/2000/svg\" height=\"24px\" viewBox=\"0 -960 960 960\">\n",
              "    <path d=\"M120-120v-720h720v720H120Zm60-500h600v-160H180v160Zm220 220h160v-160H400v160Zm0 220h160v-160H400v160ZM180-400h160v-160H180v160Zm440 0h160v-160H620v160ZM180-180h160v-160H180v160Zm440 0h160v-160H620v160Z\"/>\n",
              "  </svg>\n",
              "    </button>\n",
              "\n",
              "  <style>\n",
              "    .colab-df-container {\n",
              "      display:flex;\n",
              "      gap: 12px;\n",
              "    }\n",
              "\n",
              "    .colab-df-convert {\n",
              "      background-color: #E8F0FE;\n",
              "      border: none;\n",
              "      border-radius: 50%;\n",
              "      cursor: pointer;\n",
              "      display: none;\n",
              "      fill: #1967D2;\n",
              "      height: 32px;\n",
              "      padding: 0 0 0 0;\n",
              "      width: 32px;\n",
              "    }\n",
              "\n",
              "    .colab-df-convert:hover {\n",
              "      background-color: #E2EBFA;\n",
              "      box-shadow: 0px 1px 2px rgba(60, 64, 67, 0.3), 0px 1px 3px 1px rgba(60, 64, 67, 0.15);\n",
              "      fill: #174EA6;\n",
              "    }\n",
              "\n",
              "    .colab-df-buttons div {\n",
              "      margin-bottom: 4px;\n",
              "    }\n",
              "\n",
              "    [theme=dark] .colab-df-convert {\n",
              "      background-color: #3B4455;\n",
              "      fill: #D2E3FC;\n",
              "    }\n",
              "\n",
              "    [theme=dark] .colab-df-convert:hover {\n",
              "      background-color: #434B5C;\n",
              "      box-shadow: 0px 1px 3px 1px rgba(0, 0, 0, 0.15);\n",
              "      filter: drop-shadow(0px 1px 2px rgba(0, 0, 0, 0.3));\n",
              "      fill: #FFFFFF;\n",
              "    }\n",
              "  </style>\n",
              "\n",
              "    <script>\n",
              "      const buttonEl =\n",
              "        document.querySelector('#df-fa344b7f-6553-42fc-81c0-c86341e38051 button.colab-df-convert');\n",
              "      buttonEl.style.display =\n",
              "        google.colab.kernel.accessAllowed ? 'block' : 'none';\n",
              "\n",
              "      async function convertToInteractive(key) {\n",
              "        const element = document.querySelector('#df-fa344b7f-6553-42fc-81c0-c86341e38051');\n",
              "        const dataTable =\n",
              "          await google.colab.kernel.invokeFunction('convertToInteractive',\n",
              "                                                    [key], {});\n",
              "        if (!dataTable) return;\n",
              "\n",
              "        const docLinkHtml = 'Like what you see? Visit the ' +\n",
              "          '<a target=\"_blank\" href=https://colab.research.google.com/notebooks/data_table.ipynb>data table notebook</a>'\n",
              "          + ' to learn more about interactive tables.';\n",
              "        element.innerHTML = '';\n",
              "        dataTable['output_type'] = 'display_data';\n",
              "        await google.colab.output.renderOutput(dataTable, element);\n",
              "        const docLink = document.createElement('div');\n",
              "        docLink.innerHTML = docLinkHtml;\n",
              "        element.appendChild(docLink);\n",
              "      }\n",
              "    </script>\n",
              "  </div>\n",
              "\n",
              "\n",
              "<div id=\"df-1b5c167a-e58e-49be-b066-898d104ed5b5\">\n",
              "  <button class=\"colab-df-quickchart\" onclick=\"quickchart('df-1b5c167a-e58e-49be-b066-898d104ed5b5')\"\n",
              "            title=\"Suggest charts\"\n",
              "            style=\"display:none;\">\n",
              "\n",
              "<svg xmlns=\"http://www.w3.org/2000/svg\" height=\"24px\"viewBox=\"0 0 24 24\"\n",
              "     width=\"24px\">\n",
              "    <g>\n",
              "        <path d=\"M19 3H5c-1.1 0-2 .9-2 2v14c0 1.1.9 2 2 2h14c1.1 0 2-.9 2-2V5c0-1.1-.9-2-2-2zM9 17H7v-7h2v7zm4 0h-2V7h2v10zm4 0h-2v-4h2v4z\"/>\n",
              "    </g>\n",
              "</svg>\n",
              "  </button>\n",
              "\n",
              "<style>\n",
              "  .colab-df-quickchart {\n",
              "      --bg-color: #E8F0FE;\n",
              "      --fill-color: #1967D2;\n",
              "      --hover-bg-color: #E2EBFA;\n",
              "      --hover-fill-color: #174EA6;\n",
              "      --disabled-fill-color: #AAA;\n",
              "      --disabled-bg-color: #DDD;\n",
              "  }\n",
              "\n",
              "  [theme=dark] .colab-df-quickchart {\n",
              "      --bg-color: #3B4455;\n",
              "      --fill-color: #D2E3FC;\n",
              "      --hover-bg-color: #434B5C;\n",
              "      --hover-fill-color: #FFFFFF;\n",
              "      --disabled-bg-color: #3B4455;\n",
              "      --disabled-fill-color: #666;\n",
              "  }\n",
              "\n",
              "  .colab-df-quickchart {\n",
              "    background-color: var(--bg-color);\n",
              "    border: none;\n",
              "    border-radius: 50%;\n",
              "    cursor: pointer;\n",
              "    display: none;\n",
              "    fill: var(--fill-color);\n",
              "    height: 32px;\n",
              "    padding: 0;\n",
              "    width: 32px;\n",
              "  }\n",
              "\n",
              "  .colab-df-quickchart:hover {\n",
              "    background-color: var(--hover-bg-color);\n",
              "    box-shadow: 0 1px 2px rgba(60, 64, 67, 0.3), 0 1px 3px 1px rgba(60, 64, 67, 0.15);\n",
              "    fill: var(--button-hover-fill-color);\n",
              "  }\n",
              "\n",
              "  .colab-df-quickchart-complete:disabled,\n",
              "  .colab-df-quickchart-complete:disabled:hover {\n",
              "    background-color: var(--disabled-bg-color);\n",
              "    fill: var(--disabled-fill-color);\n",
              "    box-shadow: none;\n",
              "  }\n",
              "\n",
              "  .colab-df-spinner {\n",
              "    border: 2px solid var(--fill-color);\n",
              "    border-color: transparent;\n",
              "    border-bottom-color: var(--fill-color);\n",
              "    animation:\n",
              "      spin 1s steps(1) infinite;\n",
              "  }\n",
              "\n",
              "  @keyframes spin {\n",
              "    0% {\n",
              "      border-color: transparent;\n",
              "      border-bottom-color: var(--fill-color);\n",
              "      border-left-color: var(--fill-color);\n",
              "    }\n",
              "    20% {\n",
              "      border-color: transparent;\n",
              "      border-left-color: var(--fill-color);\n",
              "      border-top-color: var(--fill-color);\n",
              "    }\n",
              "    30% {\n",
              "      border-color: transparent;\n",
              "      border-left-color: var(--fill-color);\n",
              "      border-top-color: var(--fill-color);\n",
              "      border-right-color: var(--fill-color);\n",
              "    }\n",
              "    40% {\n",
              "      border-color: transparent;\n",
              "      border-right-color: var(--fill-color);\n",
              "      border-top-color: var(--fill-color);\n",
              "    }\n",
              "    60% {\n",
              "      border-color: transparent;\n",
              "      border-right-color: var(--fill-color);\n",
              "    }\n",
              "    80% {\n",
              "      border-color: transparent;\n",
              "      border-right-color: var(--fill-color);\n",
              "      border-bottom-color: var(--fill-color);\n",
              "    }\n",
              "    90% {\n",
              "      border-color: transparent;\n",
              "      border-bottom-color: var(--fill-color);\n",
              "    }\n",
              "  }\n",
              "</style>\n",
              "\n",
              "  <script>\n",
              "    async function quickchart(key) {\n",
              "      const quickchartButtonEl =\n",
              "        document.querySelector('#' + key + ' button');\n",
              "      quickchartButtonEl.disabled = true;  // To prevent multiple clicks.\n",
              "      quickchartButtonEl.classList.add('colab-df-spinner');\n",
              "      try {\n",
              "        const charts = await google.colab.kernel.invokeFunction(\n",
              "            'suggestCharts', [key], {});\n",
              "      } catch (error) {\n",
              "        console.error('Error during call to suggestCharts:', error);\n",
              "      }\n",
              "      quickchartButtonEl.classList.remove('colab-df-spinner');\n",
              "      quickchartButtonEl.classList.add('colab-df-quickchart-complete');\n",
              "    }\n",
              "    (() => {\n",
              "      let quickchartButtonEl =\n",
              "        document.querySelector('#df-1b5c167a-e58e-49be-b066-898d104ed5b5 button');\n",
              "      quickchartButtonEl.style.display =\n",
              "        google.colab.kernel.accessAllowed ? 'block' : 'none';\n",
              "    })();\n",
              "  </script>\n",
              "</div>\n",
              "\n",
              "    </div>\n",
              "  </div>\n"
            ],
            "application/vnd.google.colaboratory.intrinsic+json": {
              "type": "dataframe",
              "variable_name": "df",
              "summary": "{\n  \"name\": \"df\",\n  \"rows\": 1370,\n  \"fields\": [\n    {\n      \"column\": \"category\",\n      \"properties\": {\n        \"dtype\": \"category\",\n        \"num_unique_values\": 5,\n        \"samples\": [\n          \"business\",\n          \"politics\",\n          \"sport\"\n        ],\n        \"semantic_type\": \"\",\n        \"description\": \"\"\n      }\n    },\n    {\n      \"column\": \"text\",\n      \"properties\": {\n        \"dtype\": \"string\",\n        \"num_unique_values\": 1332,\n        \"samples\": [\n          \"ring of fire hit co-writer dies merle kilgore  co-writer of the country hit ring of fire  has died of congestive heart failure aged 70.  he started out as a singer and songwriter before going into music management  looking after country star hank williams jr. he wrote ring of fire with june carter cash  the future wife of johnny cash who went on to score his most popular hit with the track. kilgore had heart surgery in 2004 and was also diagnosed with lung cancer. his death has been attributed to treatment he was undergoing for the cancer. his first self-penned top 10 hit was dear mama in 1959.  one of the first songs he wrote for other artists was wolverton mountain  which sold 10 million copies when recorded by claude king. he then wrote ring of fire with june carter cash  which was about her unrequited love for johnny  who she later married. it was first recorded by her younger sister anita carter before johnny went on to make such a success of it. june carter cash previously said it upset her husband when kilgore talked about the song without crediting her and believed he should not have been credited on it. last year  kilgore turned up an awards dinner in a wheelchair expecting to honour hank williams jr  but instead he was the surprise recipient of a lifetime achievement award from the international entertainment buyers association.\",\n          \"sluggish economy hits german jobs the number of people out of work in europe s largest economy has risen for the tenth straight month as growth remains stubbornly slow.  german unemployment rose 7 000 in november to 4.464 million people  or 10.8% of the workforce. the seasonally adjusted rise showed a smaller rise than expected  as government measures to encourage job creation began to take effect. but officials said stagnant growth was still stifling the job market.  there are clear signs of a revival in domestic demand   said frank-juergen weise  head of the federal labour agency  in a statement.  but growth of 0.1%... in the third quarter is still insufficient to deliver positive momentum to the labour market.  high oil prices and the soaring euro - which damages the competitiveness of exporters - were also having a negative effect  he said. the brunt of the unemployment is still being felt in the eastern part of germany  where the rate is 18.8%.  with unemployment stuck above 4 million for years  the government of chancellor gerhard schroeder has put job creation at the top of the agenda. a controversial package of measures to shake up incentives to get back to work  paid for by cutting some cherished benefits  has sparked anger among some german workers. strikes in a number of industries  notably among the country s iconic carmakers  have demonstrated the displeasure - as well as fears about further job losses as outsourcing takes hold. among the new initiatives are the so-called  one-euro jobs  which top up unemployment benefit. the scheme s formal launch is january  but hirings for these positions are already taking place and affecting the unemployment statistics  economists said.  the deterioration of the labour market does not come as a surprise   said isabelle kronawitter at hypovereinsbank.  job creation measures probably prevented a stronger increase in the seasonally adjusted numbers.\",\n          \"uk firm faces venezuelan land row venezuelan authorities have said they will seize land owned by a british company as part of president chavez s agrarian reform programme.  officials in cojedes state said on friday that farmland owned by a subsidiary of the vestey group would be taken and used to settle poor farmers. the government is cracking down on so-called latifundios  or large rural estates  which it says are lying idle. the vestey group said it had not been informed of any planned seizure.  the firm  whose agroflora subsidiary operates 13 farms in venezuela  insisted that it had complied fully with venezuelan law. prosecutors in the south of the country have targeted hato el charcote  a beef cattle ranch owned by agroflora. according to reuters  they plan to seize 12 900 acres (5 200 hectares) from the 32 000 acre (13 000 hectare) farm.  officials claim that agroflora does not possess valid documents proving its ownership of the land in question. they also allege that areas of the ranch are not being used for any form of active production.  the legal boundaries did not match up with the actual boundaries and there is surplus   state prosecutor alexis ortiz told reuters.  as a consequence the government has taken action.   controversial reforms passed in 2001 give the government the right to take control of private property if it is declared idle or ownership cannot be traced back to the 19th century.  critics say the powers - which president chavez argues are needed to help the country s poorest citizens and develop the venezuelan economy - trample all over private property rights. the vestey group said it had owned the land since 1920 and would co-operate fully with the authorities. but a spokesman added:  agroflora is absolutely confident that what it has submitted will demonstrate the legality of its title to the land.  the company pointed out that the farm  which employs 300 workers  provides meat solely for the venezuelan market.  last month  the government said it had identified more than 500 idle farms and had yet to consider the status of a further 40 000. the authorities said landowners whose titles were in order and whose farms were productive had  nothing to fear . under president chavez  the venezuelan government has steadily expanded the state s involvement in the country s economy. it recently said all mining contracts involving foreign firms would be examined to ensure they provided sufficient economic benefits to the state.\"\n        ],\n        \"semantic_type\": \"\",\n        \"description\": \"\"\n      }\n    }\n  ]\n}"
            }
          },
          "metadata": {},
          "execution_count": 4
        }
      ]
    },
    {
      "cell_type": "code",
      "source": [
        "df.shape"
      ],
      "metadata": {
        "colab": {
          "base_uri": "https://localhost:8080/"
        },
        "id": "QQMCK7n_VhVE",
        "outputId": "e84aace0-6842-4086-9a29-43cabf9b572b"
      },
      "execution_count": 5,
      "outputs": [
        {
          "output_type": "execute_result",
          "data": {
            "text/plain": [
              "(1370, 2)"
            ]
          },
          "metadata": {},
          "execution_count": 5
        }
      ]
    },
    {
      "cell_type": "code",
      "source": [
        "df.category.unique()"
      ],
      "metadata": {
        "colab": {
          "base_uri": "https://localhost:8080/"
        },
        "id": "wRLOlKykVkrP",
        "outputId": "c9a12eda-c633-46a0-8312-c0a234d7cef1"
      },
      "execution_count": 6,
      "outputs": [
        {
          "output_type": "execute_result",
          "data": {
            "text/plain": [
              "array(['tech', 'business', 'sport', 'entertainment', 'politics'],\n",
              "      dtype=object)"
            ]
          },
          "metadata": {},
          "execution_count": 6
        }
      ]
    },
    {
      "cell_type": "code",
      "source": [
        "df.category.replace(to_replace = 'tech', value = 0, inplace = True)\n",
        "df.category.replace(to_replace = 'business', value = 1, inplace = True)\n",
        "df.category.replace(to_replace = 'sport', value = 2, inplace = True)\n",
        "df.category.replace(to_replace = 'entertainment', value = 3, inplace = True)\n",
        "df.category.replace(to_replace = 'politics', value = 4, inplace = True)\n"
      ],
      "metadata": {
        "id": "3ldXAHLsVqtZ"
      },
      "execution_count": 7,
      "outputs": []
    },
    {
      "cell_type": "code",
      "source": [
        "df.head()"
      ],
      "metadata": {
        "colab": {
          "base_uri": "https://localhost:8080/",
          "height": 206
        },
        "id": "LmV3rRzAWJqD",
        "outputId": "3d234224-3333-42a0-d3c4-76887370d227"
      },
      "execution_count": 8,
      "outputs": [
        {
          "output_type": "execute_result",
          "data": {
            "text/plain": [
              "   category                                               text\n",
              "0         0  tv future in the hands of viewers with home th...\n",
              "1         1  worldcom boss  left books alone  former worldc...\n",
              "2         2  tigers wary of farrell  gamble  leicester say ...\n",
              "3         2  yeading face newcastle in fa cup premiership s...\n",
              "4         3  ocean s twelve raids box office ocean s twelve..."
            ],
            "text/html": [
              "\n",
              "  <div id=\"df-4282f42d-817f-4ba5-bd16-8e28a3dae794\" class=\"colab-df-container\">\n",
              "    <div>\n",
              "<style scoped>\n",
              "    .dataframe tbody tr th:only-of-type {\n",
              "        vertical-align: middle;\n",
              "    }\n",
              "\n",
              "    .dataframe tbody tr th {\n",
              "        vertical-align: top;\n",
              "    }\n",
              "\n",
              "    .dataframe thead th {\n",
              "        text-align: right;\n",
              "    }\n",
              "</style>\n",
              "<table border=\"1\" class=\"dataframe\">\n",
              "  <thead>\n",
              "    <tr style=\"text-align: right;\">\n",
              "      <th></th>\n",
              "      <th>category</th>\n",
              "      <th>text</th>\n",
              "    </tr>\n",
              "  </thead>\n",
              "  <tbody>\n",
              "    <tr>\n",
              "      <th>0</th>\n",
              "      <td>0</td>\n",
              "      <td>tv future in the hands of viewers with home th...</td>\n",
              "    </tr>\n",
              "    <tr>\n",
              "      <th>1</th>\n",
              "      <td>1</td>\n",
              "      <td>worldcom boss  left books alone  former worldc...</td>\n",
              "    </tr>\n",
              "    <tr>\n",
              "      <th>2</th>\n",
              "      <td>2</td>\n",
              "      <td>tigers wary of farrell  gamble  leicester say ...</td>\n",
              "    </tr>\n",
              "    <tr>\n",
              "      <th>3</th>\n",
              "      <td>2</td>\n",
              "      <td>yeading face newcastle in fa cup premiership s...</td>\n",
              "    </tr>\n",
              "    <tr>\n",
              "      <th>4</th>\n",
              "      <td>3</td>\n",
              "      <td>ocean s twelve raids box office ocean s twelve...</td>\n",
              "    </tr>\n",
              "  </tbody>\n",
              "</table>\n",
              "</div>\n",
              "    <div class=\"colab-df-buttons\">\n",
              "\n",
              "  <div class=\"colab-df-container\">\n",
              "    <button class=\"colab-df-convert\" onclick=\"convertToInteractive('df-4282f42d-817f-4ba5-bd16-8e28a3dae794')\"\n",
              "            title=\"Convert this dataframe to an interactive table.\"\n",
              "            style=\"display:none;\">\n",
              "\n",
              "  <svg xmlns=\"http://www.w3.org/2000/svg\" height=\"24px\" viewBox=\"0 -960 960 960\">\n",
              "    <path d=\"M120-120v-720h720v720H120Zm60-500h600v-160H180v160Zm220 220h160v-160H400v160Zm0 220h160v-160H400v160ZM180-400h160v-160H180v160Zm440 0h160v-160H620v160ZM180-180h160v-160H180v160Zm440 0h160v-160H620v160Z\"/>\n",
              "  </svg>\n",
              "    </button>\n",
              "\n",
              "  <style>\n",
              "    .colab-df-container {\n",
              "      display:flex;\n",
              "      gap: 12px;\n",
              "    }\n",
              "\n",
              "    .colab-df-convert {\n",
              "      background-color: #E8F0FE;\n",
              "      border: none;\n",
              "      border-radius: 50%;\n",
              "      cursor: pointer;\n",
              "      display: none;\n",
              "      fill: #1967D2;\n",
              "      height: 32px;\n",
              "      padding: 0 0 0 0;\n",
              "      width: 32px;\n",
              "    }\n",
              "\n",
              "    .colab-df-convert:hover {\n",
              "      background-color: #E2EBFA;\n",
              "      box-shadow: 0px 1px 2px rgba(60, 64, 67, 0.3), 0px 1px 3px 1px rgba(60, 64, 67, 0.15);\n",
              "      fill: #174EA6;\n",
              "    }\n",
              "\n",
              "    .colab-df-buttons div {\n",
              "      margin-bottom: 4px;\n",
              "    }\n",
              "\n",
              "    [theme=dark] .colab-df-convert {\n",
              "      background-color: #3B4455;\n",
              "      fill: #D2E3FC;\n",
              "    }\n",
              "\n",
              "    [theme=dark] .colab-df-convert:hover {\n",
              "      background-color: #434B5C;\n",
              "      box-shadow: 0px 1px 3px 1px rgba(0, 0, 0, 0.15);\n",
              "      filter: drop-shadow(0px 1px 2px rgba(0, 0, 0, 0.3));\n",
              "      fill: #FFFFFF;\n",
              "    }\n",
              "  </style>\n",
              "\n",
              "    <script>\n",
              "      const buttonEl =\n",
              "        document.querySelector('#df-4282f42d-817f-4ba5-bd16-8e28a3dae794 button.colab-df-convert');\n",
              "      buttonEl.style.display =\n",
              "        google.colab.kernel.accessAllowed ? 'block' : 'none';\n",
              "\n",
              "      async function convertToInteractive(key) {\n",
              "        const element = document.querySelector('#df-4282f42d-817f-4ba5-bd16-8e28a3dae794');\n",
              "        const dataTable =\n",
              "          await google.colab.kernel.invokeFunction('convertToInteractive',\n",
              "                                                    [key], {});\n",
              "        if (!dataTable) return;\n",
              "\n",
              "        const docLinkHtml = 'Like what you see? Visit the ' +\n",
              "          '<a target=\"_blank\" href=https://colab.research.google.com/notebooks/data_table.ipynb>data table notebook</a>'\n",
              "          + ' to learn more about interactive tables.';\n",
              "        element.innerHTML = '';\n",
              "        dataTable['output_type'] = 'display_data';\n",
              "        await google.colab.output.renderOutput(dataTable, element);\n",
              "        const docLink = document.createElement('div');\n",
              "        docLink.innerHTML = docLinkHtml;\n",
              "        element.appendChild(docLink);\n",
              "      }\n",
              "    </script>\n",
              "  </div>\n",
              "\n",
              "\n",
              "<div id=\"df-7f056b35-29ce-4416-a3fe-37f7debdee89\">\n",
              "  <button class=\"colab-df-quickchart\" onclick=\"quickchart('df-7f056b35-29ce-4416-a3fe-37f7debdee89')\"\n",
              "            title=\"Suggest charts\"\n",
              "            style=\"display:none;\">\n",
              "\n",
              "<svg xmlns=\"http://www.w3.org/2000/svg\" height=\"24px\"viewBox=\"0 0 24 24\"\n",
              "     width=\"24px\">\n",
              "    <g>\n",
              "        <path d=\"M19 3H5c-1.1 0-2 .9-2 2v14c0 1.1.9 2 2 2h14c1.1 0 2-.9 2-2V5c0-1.1-.9-2-2-2zM9 17H7v-7h2v7zm4 0h-2V7h2v10zm4 0h-2v-4h2v4z\"/>\n",
              "    </g>\n",
              "</svg>\n",
              "  </button>\n",
              "\n",
              "<style>\n",
              "  .colab-df-quickchart {\n",
              "      --bg-color: #E8F0FE;\n",
              "      --fill-color: #1967D2;\n",
              "      --hover-bg-color: #E2EBFA;\n",
              "      --hover-fill-color: #174EA6;\n",
              "      --disabled-fill-color: #AAA;\n",
              "      --disabled-bg-color: #DDD;\n",
              "  }\n",
              "\n",
              "  [theme=dark] .colab-df-quickchart {\n",
              "      --bg-color: #3B4455;\n",
              "      --fill-color: #D2E3FC;\n",
              "      --hover-bg-color: #434B5C;\n",
              "      --hover-fill-color: #FFFFFF;\n",
              "      --disabled-bg-color: #3B4455;\n",
              "      --disabled-fill-color: #666;\n",
              "  }\n",
              "\n",
              "  .colab-df-quickchart {\n",
              "    background-color: var(--bg-color);\n",
              "    border: none;\n",
              "    border-radius: 50%;\n",
              "    cursor: pointer;\n",
              "    display: none;\n",
              "    fill: var(--fill-color);\n",
              "    height: 32px;\n",
              "    padding: 0;\n",
              "    width: 32px;\n",
              "  }\n",
              "\n",
              "  .colab-df-quickchart:hover {\n",
              "    background-color: var(--hover-bg-color);\n",
              "    box-shadow: 0 1px 2px rgba(60, 64, 67, 0.3), 0 1px 3px 1px rgba(60, 64, 67, 0.15);\n",
              "    fill: var(--button-hover-fill-color);\n",
              "  }\n",
              "\n",
              "  .colab-df-quickchart-complete:disabled,\n",
              "  .colab-df-quickchart-complete:disabled:hover {\n",
              "    background-color: var(--disabled-bg-color);\n",
              "    fill: var(--disabled-fill-color);\n",
              "    box-shadow: none;\n",
              "  }\n",
              "\n",
              "  .colab-df-spinner {\n",
              "    border: 2px solid var(--fill-color);\n",
              "    border-color: transparent;\n",
              "    border-bottom-color: var(--fill-color);\n",
              "    animation:\n",
              "      spin 1s steps(1) infinite;\n",
              "  }\n",
              "\n",
              "  @keyframes spin {\n",
              "    0% {\n",
              "      border-color: transparent;\n",
              "      border-bottom-color: var(--fill-color);\n",
              "      border-left-color: var(--fill-color);\n",
              "    }\n",
              "    20% {\n",
              "      border-color: transparent;\n",
              "      border-left-color: var(--fill-color);\n",
              "      border-top-color: var(--fill-color);\n",
              "    }\n",
              "    30% {\n",
              "      border-color: transparent;\n",
              "      border-left-color: var(--fill-color);\n",
              "      border-top-color: var(--fill-color);\n",
              "      border-right-color: var(--fill-color);\n",
              "    }\n",
              "    40% {\n",
              "      border-color: transparent;\n",
              "      border-right-color: var(--fill-color);\n",
              "      border-top-color: var(--fill-color);\n",
              "    }\n",
              "    60% {\n",
              "      border-color: transparent;\n",
              "      border-right-color: var(--fill-color);\n",
              "    }\n",
              "    80% {\n",
              "      border-color: transparent;\n",
              "      border-right-color: var(--fill-color);\n",
              "      border-bottom-color: var(--fill-color);\n",
              "    }\n",
              "    90% {\n",
              "      border-color: transparent;\n",
              "      border-bottom-color: var(--fill-color);\n",
              "    }\n",
              "  }\n",
              "</style>\n",
              "\n",
              "  <script>\n",
              "    async function quickchart(key) {\n",
              "      const quickchartButtonEl =\n",
              "        document.querySelector('#' + key + ' button');\n",
              "      quickchartButtonEl.disabled = true;  // To prevent multiple clicks.\n",
              "      quickchartButtonEl.classList.add('colab-df-spinner');\n",
              "      try {\n",
              "        const charts = await google.colab.kernel.invokeFunction(\n",
              "            'suggestCharts', [key], {});\n",
              "      } catch (error) {\n",
              "        console.error('Error during call to suggestCharts:', error);\n",
              "      }\n",
              "      quickchartButtonEl.classList.remove('colab-df-spinner');\n",
              "      quickchartButtonEl.classList.add('colab-df-quickchart-complete');\n",
              "    }\n",
              "    (() => {\n",
              "      let quickchartButtonEl =\n",
              "        document.querySelector('#df-7f056b35-29ce-4416-a3fe-37f7debdee89 button');\n",
              "      quickchartButtonEl.style.display =\n",
              "        google.colab.kernel.accessAllowed ? 'block' : 'none';\n",
              "    })();\n",
              "  </script>\n",
              "</div>\n",
              "\n",
              "    </div>\n",
              "  </div>\n"
            ],
            "application/vnd.google.colaboratory.intrinsic+json": {
              "type": "dataframe",
              "variable_name": "df",
              "summary": "{\n  \"name\": \"df\",\n  \"rows\": 1370,\n  \"fields\": [\n    {\n      \"column\": \"category\",\n      \"properties\": {\n        \"dtype\": \"number\",\n        \"std\": 1,\n        \"min\": 0,\n        \"max\": 4,\n        \"num_unique_values\": 5,\n        \"samples\": [\n          1,\n          4,\n          2\n        ],\n        \"semantic_type\": \"\",\n        \"description\": \"\"\n      }\n    },\n    {\n      \"column\": \"text\",\n      \"properties\": {\n        \"dtype\": \"string\",\n        \"num_unique_values\": 1332,\n        \"samples\": [\n          \"ring of fire hit co-writer dies merle kilgore  co-writer of the country hit ring of fire  has died of congestive heart failure aged 70.  he started out as a singer and songwriter before going into music management  looking after country star hank williams jr. he wrote ring of fire with june carter cash  the future wife of johnny cash who went on to score his most popular hit with the track. kilgore had heart surgery in 2004 and was also diagnosed with lung cancer. his death has been attributed to treatment he was undergoing for the cancer. his first self-penned top 10 hit was dear mama in 1959.  one of the first songs he wrote for other artists was wolverton mountain  which sold 10 million copies when recorded by claude king. he then wrote ring of fire with june carter cash  which was about her unrequited love for johnny  who she later married. it was first recorded by her younger sister anita carter before johnny went on to make such a success of it. june carter cash previously said it upset her husband when kilgore talked about the song without crediting her and believed he should not have been credited on it. last year  kilgore turned up an awards dinner in a wheelchair expecting to honour hank williams jr  but instead he was the surprise recipient of a lifetime achievement award from the international entertainment buyers association.\",\n          \"sluggish economy hits german jobs the number of people out of work in europe s largest economy has risen for the tenth straight month as growth remains stubbornly slow.  german unemployment rose 7 000 in november to 4.464 million people  or 10.8% of the workforce. the seasonally adjusted rise showed a smaller rise than expected  as government measures to encourage job creation began to take effect. but officials said stagnant growth was still stifling the job market.  there are clear signs of a revival in domestic demand   said frank-juergen weise  head of the federal labour agency  in a statement.  but growth of 0.1%... in the third quarter is still insufficient to deliver positive momentum to the labour market.  high oil prices and the soaring euro - which damages the competitiveness of exporters - were also having a negative effect  he said. the brunt of the unemployment is still being felt in the eastern part of germany  where the rate is 18.8%.  with unemployment stuck above 4 million for years  the government of chancellor gerhard schroeder has put job creation at the top of the agenda. a controversial package of measures to shake up incentives to get back to work  paid for by cutting some cherished benefits  has sparked anger among some german workers. strikes in a number of industries  notably among the country s iconic carmakers  have demonstrated the displeasure - as well as fears about further job losses as outsourcing takes hold. among the new initiatives are the so-called  one-euro jobs  which top up unemployment benefit. the scheme s formal launch is january  but hirings for these positions are already taking place and affecting the unemployment statistics  economists said.  the deterioration of the labour market does not come as a surprise   said isabelle kronawitter at hypovereinsbank.  job creation measures probably prevented a stronger increase in the seasonally adjusted numbers.\",\n          \"uk firm faces venezuelan land row venezuelan authorities have said they will seize land owned by a british company as part of president chavez s agrarian reform programme.  officials in cojedes state said on friday that farmland owned by a subsidiary of the vestey group would be taken and used to settle poor farmers. the government is cracking down on so-called latifundios  or large rural estates  which it says are lying idle. the vestey group said it had not been informed of any planned seizure.  the firm  whose agroflora subsidiary operates 13 farms in venezuela  insisted that it had complied fully with venezuelan law. prosecutors in the south of the country have targeted hato el charcote  a beef cattle ranch owned by agroflora. according to reuters  they plan to seize 12 900 acres (5 200 hectares) from the 32 000 acre (13 000 hectare) farm.  officials claim that agroflora does not possess valid documents proving its ownership of the land in question. they also allege that areas of the ranch are not being used for any form of active production.  the legal boundaries did not match up with the actual boundaries and there is surplus   state prosecutor alexis ortiz told reuters.  as a consequence the government has taken action.   controversial reforms passed in 2001 give the government the right to take control of private property if it is declared idle or ownership cannot be traced back to the 19th century.  critics say the powers - which president chavez argues are needed to help the country s poorest citizens and develop the venezuelan economy - trample all over private property rights. the vestey group said it had owned the land since 1920 and would co-operate fully with the authorities. but a spokesman added:  agroflora is absolutely confident that what it has submitted will demonstrate the legality of its title to the land.  the company pointed out that the farm  which employs 300 workers  provides meat solely for the venezuelan market.  last month  the government said it had identified more than 500 idle farms and had yet to consider the status of a further 40 000. the authorities said landowners whose titles were in order and whose farms were productive had  nothing to fear . under president chavez  the venezuelan government has steadily expanded the state s involvement in the country s economy. it recently said all mining contracts involving foreign firms would be examined to ensure they provided sufficient economic benefits to the state.\"\n        ],\n        \"semantic_type\": \"\",\n        \"description\": \"\"\n      }\n    }\n  ]\n}"
            }
          },
          "metadata": {},
          "execution_count": 8
        }
      ]
    },
    {
      "cell_type": "markdown",
      "source": [
        "catergorise into features and labels"
      ],
      "metadata": {
        "id": "DGUQ9ASCnCfG"
      }
    },
    {
      "cell_type": "code",
      "source": [
        "features = df['text']\n",
        "labels = df['category']"
      ],
      "metadata": {
        "id": "vrhDzZR3WMIC"
      },
      "execution_count": 9,
      "outputs": []
    },
    {
      "cell_type": "code",
      "source": [
        "plt.figure(figsize = (8,6))\n",
        "x, y = np.unique(labels, return_counts=True)\n",
        "plt.bar(x, y, align='center')\n",
        "plt.gca().set_xticks(x)\n",
        "plt.show()"
      ],
      "metadata": {
        "colab": {
          "base_uri": "https://localhost:8080/",
          "height": 522
        },
        "id": "mkXuDoIQXPHM",
        "outputId": "b540de8c-d148-4fca-902b-e2dbc21d4c0e"
      },
      "execution_count": 10,
      "outputs": [
        {
          "output_type": "display_data",
          "data": {
            "text/plain": [
              "<Figure size 800x600 with 1 Axes>"
            ],
            "image/png": "[encoded data removed]"
          },
          "metadata": {}
        }
      ]
    },
    {
      "cell_type": "markdown",
      "source": [
        "### Split the model into training and testing"
      ],
      "metadata": {
        "id": "TYrXaANYnHIl"
      }
    },
    {
      "cell_type": "code",
      "source": [
        "train_data, test_data, train_labels, test_labels = train_test_split(features, labels, test_size = 0.2, random_state = 42)"
      ],
      "metadata": {
        "id": "cmio10l9XRua"
      },
      "execution_count": 11,
      "outputs": []
    },
    {
      "cell_type": "code",
      "source": [
        "train_data.shape"
      ],
      "metadata": {
        "colab": {
          "base_uri": "https://localhost:8080/"
        },
        "id": "3jzoxYdQYXZj",
        "outputId": "bc648943-bf4d-4bab-f12b-b00df2d9dbad"
      },
      "execution_count": 12,
      "outputs": [
        {
          "output_type": "execute_result",
          "data": {
            "text/plain": [
              "(1096,)"
            ]
          },
          "metadata": {},
          "execution_count": 12
        }
      ]
    },
    {
      "cell_type": "code",
      "source": [
        "train_data[0]"
      ],
      "metadata": {
        "colab": {
          "base_uri": "https://localhost:8080/",
          "height": 192
        },
        "id": "gOTCOsrtYXzT",
        "outputId": "2e54c1d2-c68a-43cb-fac2-9aecc20abf30"
      },
      "execution_count": 13,
      "outputs": [
        {
          "output_type": "execute_result",
          "data": {
            "text/plain": [
              "'tv future in the hands of viewers with home theatre systems  plasma high-definition tvs  and digital video recorders moving into the living room  the way people watch tv will be radically different in five years  time.  that is according to an expert panel which gathered at the annual consumer electronics show in las vegas to discuss how these new technologies will impact one of our favourite pastimes. with the us leading the trend  programmes and other content will be delivered to viewers via home networks  through cable  satellite  telecoms companies  and broadband service providers to front rooms and portable devices.  one of the most talked-about technologies of ces has been digital and personal video recorders (dvr and pvr). these set-top boxes  like the us s tivo and the uk s sky+ system  allow people to record  store  play  pause and forward wind tv programmes when they want.  essentially  the technology allows for much more personalised tv. they are also being built-in to high-definition tv sets  which are big business in japan and the us  but slower to take off in europe because of the lack of high-definition programming. not only can people forward wind through adverts  they can also forget about abiding by network and channel schedules  putting together their own a-la-carte entertainment. but some us networks and cable and satellite companies are worried about what it means for them in terms of advertising revenues as well as  brand identity  and viewer loyalty to channels. although the us leads in this technology at the moment  it is also a concern that is being raised in europe  particularly with the growing uptake of services like sky+.  what happens here today  we will see in nine months to a years  time in the uk   adam hume  the bbc broadcast s futurologist told the bbc news website. for the likes of the bbc  there are no issues of lost advertising revenue yet. it is a more pressing issue at the moment for commercial uk broadcasters  but brand loyalty is important for everyone.  we will be talking more about content brands rather than network brands   said tim hanlon  from brand communications firm starcom mediavest.  the reality is that with broadband connections  anybody can be the producer of content.  he added:  the challenge now is that it is hard to promote a programme with so much choice.   what this means  said stacey jolna  senior vice president of tv guide tv group  is that the way people find the content they want to watch has to be simplified for tv viewers. it means that networks  in us terms  or channels could take a leaf out of google s book and be the search engine of the future  instead of the scheduler to help people find what they want to watch. this kind of channel model might work for the younger ipod generation which is used to taking control of their gadgets and what they play on them. but it might not suit everyone  the panel recognised. older generations are more comfortable with familiar schedules and channel brands because they know what they are getting. they perhaps do not want so much of the choice put into their hands  mr hanlon suggested.  on the other end  you have the kids just out of diapers who are pushing buttons already - everything is possible and available to them   said mr hanlon.  ultimately  the consumer will tell the market they want.   of the 50 000 new gadgets and technologies being showcased at ces  many of them are about enhancing the tv-watching experience. high-definition tv sets are everywhere and many new models of lcd (liquid crystal display) tvs have been launched with dvr capability built into them  instead of being external boxes. one such example launched at the show is humax s 26-inch lcd tv with an 80-hour tivo dvr and dvd recorder. one of the us s biggest satellite tv companies  directtv  has even launched its own branded dvr at the show with 100-hours of recording capability  instant replay  and a search function. the set can pause and rewind tv for up to 90 hours. and microsoft chief bill gates announced in his pre-show keynote speech a partnership with tivo  called tivotogo  which means people can play recorded programmes on windows pcs and mobile devices. all these reflect the increasing trend of freeing up multimedia so that people can watch what they want  when they want.'"
            ],
            "application/vnd.google.colaboratory.intrinsic+json": {
              "type": "string"
            }
          },
          "metadata": {},
          "execution_count": 13
        }
      ]
    },
    {
      "cell_type": "code",
      "source": [
        "train_labels[0]"
      ],
      "metadata": {
        "colab": {
          "base_uri": "https://localhost:8080/"
        },
        "id": "yQNHr18CYZWq",
        "outputId": "bb162bac-7eed-4350-c3d0-885957e52f43"
      },
      "execution_count": 14,
      "outputs": [
        {
          "output_type": "execute_result",
          "data": {
            "text/plain": [
              "0"
            ]
          },
          "metadata": {},
          "execution_count": 14
        }
      ]
    },
    {
      "cell_type": "markdown",
      "source": [
        "Instantiate the vectorizer - TDIDF"
      ],
      "metadata": {
        "id": "0TLC-uu5nN5A"
      }
    },
    {
      "cell_type": "code",
      "source": [
        "vectorizer = TfidfVectorizer()"
      ],
      "metadata": {
        "id": "YgJ9OHv1Ybd-"
      },
      "execution_count": 15,
      "outputs": []
    },
    {
      "cell_type": "markdown",
      "source": [
        "using fit.tranform(), we fit the model on training dataset."
      ],
      "metadata": {
        "id": "iCCHzUTJB1JJ"
      }
    },
    {
      "cell_type": "code",
      "source": [
        "Xtrain = vectorizer.fit_transform(train_data)\n",
        "Xtest = vectorizer.transform(test_data)"
      ],
      "metadata": {
        "id": "FmAoHDcUYqOE"
      },
      "execution_count": 16,
      "outputs": []
    },
    {
      "cell_type": "code",
      "source": [
        "Xtrain.shape"
      ],
      "metadata": {
        "colab": {
          "base_uri": "https://localhost:8080/"
        },
        "id": "ddP5VnSaY1zy",
        "outputId": "3ac31afe-a3e8-45c4-af66-b9dc648e6cfa"
      },
      "execution_count": 17,
      "outputs": [
        {
          "output_type": "execute_result",
          "data": {
            "text/plain": [
              "(1096, 21966)"
            ]
          },
          "metadata": {},
          "execution_count": 17
        }
      ]
    },
    {
      "cell_type": "code",
      "source": [
        "Xtrain"
      ],
      "metadata": {
        "colab": {
          "base_uri": "https://localhost:8080/"
        },
        "id": "8Qu_escEZC2V",
        "outputId": "650fbf6d-90c0-4191-b14f-921b5c424a6e"
      },
      "execution_count": 18,
      "outputs": [
        {
          "output_type": "execute_result",
          "data": {
            "text/plain": [
              "<1096x21966 sparse matrix of type '<class 'numpy.float64'>'\n",
              "\twith 223148 stored elements in Compressed Sparse Row format>"
            ]
          },
          "metadata": {},
          "execution_count": 18
        }
      ]
    },
    {
      "cell_type": "code",
      "source": [
        "non_zero_elements = ((Xtrain != 0).sum() / np.prod(Xtrain.shape)) *100"
      ],
      "metadata": {
        "id": "mi2-5QO7ZF4W"
      },
      "execution_count": 19,
      "outputs": []
    },
    {
      "cell_type": "code",
      "source": [
        "print(\"Percentage of non-zero elements in Xtrain : %2.2f\" % (non_zero_elements))"
      ],
      "metadata": {
        "colab": {
          "base_uri": "https://localhost:8080/"
        },
        "id": "PXz-IWEdZJbv",
        "outputId": "1f1a898e-639c-43d3-e66b-adb23d3dda4a"
      },
      "execution_count": 20,
      "outputs": [
        {
          "output_type": "stream",
          "name": "stdout",
          "text": [
            "Percentage of non-zero elements in Xtrain : 0.93\n"
          ]
        }
      ]
    },
    {
      "cell_type": "markdown",
      "source": [
        "### Using classification models:\n",
        "\n",
        "\n",
        "*   Naive bayes\n",
        "*   Logistic Regression\n",
        "\n"
      ],
      "metadata": {
        "id": "EXKk0MmZnTU4"
      }
    },
    {
      "cell_type": "markdown",
      "source": [
        "Instantiate, train and test on Naive Baye's Model"
      ],
      "metadata": {
        "id": "EEvCfENRZN1i"
      }
    },
    {
      "cell_type": "code",
      "source": [
        "model = MultinomialNB()\n",
        "model.fit(Xtrain, train_labels)\n",
        "print(\"Training Accuracy : %2.2f\" % (model.score(Xtrain, train_labels)))\n",
        "print(\"Testing Accuracy : %2.2f\" % (model.score(Xtest, test_labels)))"
      ],
      "metadata": {
        "colab": {
          "base_uri": "https://localhost:8080/"
        },
        "id": "FW2qdkYSZK6S",
        "outputId": "3c1184e8-e249-4c44-e651-11b620df0cbb"
      },
      "execution_count": 21,
      "outputs": [
        {
          "output_type": "stream",
          "name": "stdout",
          "text": [
            "Training Accuracy : 0.98\n",
            "Testing Accuracy : 0.95\n"
          ]
        }
      ]
    },
    {
      "cell_type": "markdown",
      "source": [
        "Repeating the Experiment Using Stopwards because previously we used default values"
      ],
      "metadata": {
        "id": "csXockJ7Zky6"
      }
    },
    {
      "cell_type": "code",
      "source": [
        "vectorizer = TfidfVectorizer(stop_words='english')\n",
        "Xtrain = vectorizer.fit_transform(train_data)\n",
        "Xtest = vectorizer.transform(test_data)\n",
        "model = MultinomialNB()\n",
        "model.fit(Xtrain, train_labels)\n",
        "print(\"Training Accuracy : %2.2f\" % (model.score(Xtrain, train_labels)))\n",
        "print(\"Testing Accuracy : %2.2f\" % (model.score(Xtest, test_labels)))"
      ],
      "metadata": {
        "colab": {
          "base_uri": "https://localhost:8080/"
        },
        "id": "ReaY5Y9tZgYa",
        "outputId": "90219307-717e-4cca-f1f4-7496816f97f5"
      },
      "execution_count": 22,
      "outputs": [
        {
          "output_type": "stream",
          "name": "stdout",
          "text": [
            "Training Accuracy : 0.99\n",
            "Testing Accuracy : 0.97\n"
          ]
        }
      ]
    },
    {
      "cell_type": "markdown",
      "source": [
        "Experiment with Lemmatization"
      ],
      "metadata": {
        "id": "opC6wg3wa0ll"
      }
    },
    {
      "cell_type": "code",
      "source": [
        "def get_wordnet_pos(treebank_tag):\n",
        "  if treebank_tag.startswith('J'):\n",
        "    return wordnet.ADJ\n",
        "  elif treebank_tag.startswith('V'):\n",
        "    return wordnet.VERB\n",
        "  elif treebank_tag.startswith('N'):\n",
        "    return wordnet.NOUN\n",
        "  elif treebank_tag.startswith('R'):\n",
        "    return wordnet.ADV\n",
        "  else:\n",
        "    return wordnet.NOUN"
      ],
      "metadata": {
        "id": "VEeqUdp2aqH-"
      },
      "execution_count": 23,
      "outputs": []
    },
    {
      "cell_type": "markdown",
      "source": [
        "Create a Tokenizer class for Lemmatization"
      ],
      "metadata": {
        "id": "F0mseYNLa3wv"
      }
    },
    {
      "cell_type": "code",
      "source": [
        "class LemmaTokenizer:\n",
        "  def __init__(self):\n",
        "    self.wnl = WordNetLemmatizer()\n",
        "  def __call__(self, doc):\n",
        "    tokens = word_tokenize(doc) # word_tokenize is a function in NLTK\n",
        "    words_and_tags = nltk.pos_tag(tokens)\n",
        "    return [self.wnl.lemmatize(word, pos=get_wordnet_pos(tag)) \\\n",
        "            for word, tag in words_and_tags]"
      ],
      "metadata": {
        "id": "s2JV6rraa1Tt"
      },
      "execution_count": 24,
      "outputs": []
    },
    {
      "cell_type": "markdown",
      "source": [
        "Using lemmatization"
      ],
      "metadata": {
        "id": "-SlVwVQka9kE"
      }
    },
    {
      "cell_type": "code",
      "source": [
        "vectorizer = TfidfVectorizer(tokenizer=LemmaTokenizer())\n",
        "Xtrain = vectorizer.fit_transform(train_data)\n",
        "Xtest = vectorizer.transform(test_data)\n",
        "model = MultinomialNB()\n",
        "model.fit(Xtrain, train_labels)\n",
        "print(\"Training Accuracy : %2.2f\" % (model.score(Xtrain, train_labels)))\n",
        "print(\"Testing Accuracy : %2.2f\" % (model.score(Xtest, test_labels)))"
      ],
      "metadata": {
        "colab": {
          "base_uri": "https://localhost:8080/"
        },
        "id": "FbDICsrWa6Do",
        "outputId": "cbe69bab-2596-48c0-e36c-1ec89601f131"
      },
      "execution_count": 25,
      "outputs": [
        {
          "output_type": "stream",
          "name": "stderr",
          "text": [
            "/usr/local/lib/python3.10/dist-packages/sklearn/feature_extraction/text.py:528: UserWarning: The parameter 'token_pattern' will not be used since 'tokenizer' is not None'\n",
            "  warnings.warn(\n"
          ]
        },
        {
          "output_type": "stream",
          "name": "stdout",
          "text": [
            "Training Accuracy : 0.97\n",
            "Testing Accuracy : 0.93\n"
          ]
        }
      ]
    },
    {
      "cell_type": "markdown",
      "source": [
        "### Experiment Using Stemming - StemTokenizer()"
      ],
      "metadata": {
        "id": "nvBYzL15bzhH"
      }
    },
    {
      "cell_type": "code",
      "source": [
        "class StemTokenizer:\n",
        "  def __init__(self):\n",
        "    self.porter = PorterStemmer()\n",
        "  def __call__(self, doc):\n",
        "    tokens = word_tokenize(doc)\n",
        "    return [self.porter.stem(t) for t in tokens]"
      ],
      "metadata": {
        "id": "3BOIT_PPbDNx"
      },
      "execution_count": 26,
      "outputs": []
    },
    {
      "cell_type": "code",
      "source": [
        "vectorizer = TfidfVectorizer(tokenizer=StemTokenizer())\n",
        "Xtrain = vectorizer.fit_transform(train_data)\n",
        "Xtest = vectorizer.transform(test_data)\n",
        "model = MultinomialNB()\n",
        "model.fit(Xtrain, train_labels)\n",
        "print(\"Training Accuracy : %2.2f\" % (model.score(Xtrain, train_labels)))\n",
        "print(\"Testing Accuracy : %2.2f\" % (model.score(Xtest, test_labels)))"
      ],
      "metadata": {
        "colab": {
          "base_uri": "https://localhost:8080/"
        },
        "id": "zdCOI8Pyb1-5",
        "outputId": "73e01062-2199-4c7a-c7db-ce681f03feb3"
      },
      "execution_count": 27,
      "outputs": [
        {
          "output_type": "stream",
          "name": "stderr",
          "text": [
            "/usr/local/lib/python3.10/dist-packages/sklearn/feature_extraction/text.py:528: UserWarning: The parameter 'token_pattern' will not be used since 'tokenizer' is not None'\n",
            "  warnings.warn(\n"
          ]
        },
        {
          "output_type": "stream",
          "name": "stdout",
          "text": [
            "Training Accuracy : 0.97\n",
            "Testing Accuracy : 0.94\n"
          ]
        }
      ]
    },
    {
      "cell_type": "markdown",
      "source": [
        "Using simple split"
      ],
      "metadata": {
        "id": "k49cH_xTCYPl"
      }
    },
    {
      "cell_type": "code",
      "source": [
        "def simple_tokenizer(s):\n",
        "  return s.split()"
      ],
      "metadata": {
        "id": "OGqCQDPWCaV2"
      },
      "execution_count": 46,
      "outputs": []
    },
    {
      "cell_type": "code",
      "source": [
        "vectorizer = TfidfVectorizer(tokenizer=simple_tokenizer)\n",
        "Xtrain = vectorizer.fit_transform(train_data)\n",
        "Xtest = vectorizer.transform(test_data)\n",
        "model = MultinomialNB()\n",
        "model.fit(Xtrain, train_labels)\n",
        "print(\"Training Accuracy : %2.2f\" % (model.score(Xtrain, train_labels)))\n",
        "print(\"Testing Accuracy : %2.2f\" % (model.score(Xtest, test_labels)))"
      ],
      "metadata": {
        "colab": {
          "base_uri": "https://localhost:8080/"
        },
        "id": "L10bMS8DCe8G",
        "outputId": "f793bf88-310b-4fde-f145-51f1139dc1b0"
      },
      "execution_count": 47,
      "outputs": [
        {
          "output_type": "stream",
          "name": "stderr",
          "text": [
            "/usr/local/lib/python3.10/dist-packages/sklearn/feature_extraction/text.py:528: UserWarning: The parameter 'token_pattern' will not be used since 'tokenizer' is not None'\n",
            "  warnings.warn(\n"
          ]
        },
        {
          "output_type": "stream",
          "name": "stdout",
          "text": [
            "Training Accuracy : 0.98\n",
            "Testing Accuracy : 0.94\n"
          ]
        }
      ]
    },
    {
      "cell_type": "markdown",
      "source": [
        "### using logistic regression model"
      ],
      "metadata": {
        "id": "D4oQr6-McGcN"
      }
    },
    {
      "cell_type": "code",
      "source": [
        "from sklearn.linear_model import LogisticRegression\n",
        "model1 = LogisticRegression()\n",
        "model1.fit(Xtrain, train_labels)\n",
        "print(\"Training Accuracy : %2.2f\" % (model1.score(Xtrain, train_labels)))\n",
        "print(\"Testing Accuracy : %2.2f\" % (model1.score(Xtest, test_labels)))"
      ],
      "metadata": {
        "colab": {
          "base_uri": "https://localhost:8080/"
        },
        "id": "PbroL4q1b9Na",
        "outputId": "95c776bd-e05c-4537-f4c3-63b52b62599e"
      },
      "execution_count": 28,
      "outputs": [
        {
          "output_type": "stream",
          "name": "stdout",
          "text": [
            "Training Accuracy : 1.00\n",
            "Testing Accuracy : 0.98\n"
          ]
        }
      ]
    },
    {
      "cell_type": "markdown",
      "source": [
        "Using stopwords in TFIDF vectorizer"
      ],
      "metadata": {
        "id": "3a-0m7-WCrYw"
      }
    },
    {
      "cell_type": "code",
      "source": [
        "vectorizer = TfidfVectorizer(stop_words='english')\n",
        "Xtrain = vectorizer.fit_transform(train_data)\n",
        "Xtest = vectorizer.transform(test_data)\n",
        "model1 = LogisticRegression()\n",
        "model1.fit(Xtrain, train_labels)\n",
        "print(\"Training Accuracy : %2.2f\" % (model1.score(Xtrain, train_labels)))\n",
        "print(\"Testing Accuracy : %2.2f\" % (model1.score(Xtest, test_labels)))"
      ],
      "metadata": {
        "colab": {
          "base_uri": "https://localhost:8080/"
        },
        "id": "ajoqR55VcLEI",
        "outputId": "b1f185c7-66b1-4b1f-e5d4-0dfa636edbab"
      },
      "execution_count": 29,
      "outputs": [
        {
          "output_type": "stream",
          "name": "stdout",
          "text": [
            "Training Accuracy : 1.00\n",
            "Testing Accuracy : 0.98\n"
          ]
        }
      ]
    },
    {
      "cell_type": "markdown",
      "source": [
        "Repeat Experiment of using Logistic regression with Lemmatization"
      ],
      "metadata": {
        "id": "EZu8Md7fc0Ck"
      }
    },
    {
      "cell_type": "code",
      "source": [
        "def get_wordnet_pos(treebank_tag):\n",
        "  if treebank_tag.startswith('J'):\n",
        "    return wordnet.ADJ\n",
        "  elif treebank_tag.startswith('V'):\n",
        "    return wordnet.VERB\n",
        "  elif treebank_tag.startswith('N'):\n",
        "    return wordnet.NOUN\n",
        "  elif treebank_tag.startswith('R'):\n",
        "    return wordnet.ADV\n",
        "  else:\n",
        "    return wordnet.NOUN"
      ],
      "metadata": {
        "id": "ueO5xERNcrVe"
      },
      "execution_count": 30,
      "outputs": []
    },
    {
      "cell_type": "code",
      "source": [
        "class LemmaTokenizer:\n",
        "  def __init__(self):\n",
        "    self.wnl = WordNetLemmatizer()\n",
        "  def __call__(self, doc):\n",
        "    tokens = word_tokenize(doc) # word_tokenize is a function in NLTK\n",
        "    words_and_tags = nltk.pos_tag(tokens)\n",
        "    return [self.wnl.lemmatize(word, pos=get_wordnet_pos(tag)) \\\n",
        "            for word, tag in words_and_tags]"
      ],
      "metadata": {
        "id": "RKU1XxZHdvep"
      },
      "execution_count": 31,
      "outputs": []
    },
    {
      "cell_type": "code",
      "source": [
        "vectorizer = TfidfVectorizer(tokenizer=LemmaTokenizer())\n",
        "Xtrain = vectorizer.fit_transform(train_data)\n",
        "Xtest = vectorizer.transform(test_data)\n",
        "model1 = LogisticRegression()\n",
        "model1.fit(Xtrain, train_labels)\n",
        "print(\"Training Accuracy : %2.2f\" % (model1.score(Xtrain, train_labels)))\n",
        "print(\"Testing Accuracy : %2.2f\" % (model1.score(Xtest, test_labels)))"
      ],
      "metadata": {
        "colab": {
          "base_uri": "https://localhost:8080/"
        },
        "id": "l0iFOeXIdwOa",
        "outputId": "328861a5-4fd1-4a67-bd3d-3efbd8e8e6f7"
      },
      "execution_count": 32,
      "outputs": [
        {
          "output_type": "stream",
          "name": "stderr",
          "text": [
            "/usr/local/lib/python3.10/dist-packages/sklearn/feature_extraction/text.py:528: UserWarning: The parameter 'token_pattern' will not be used since 'tokenizer' is not None'\n",
            "  warnings.warn(\n"
          ]
        },
        {
          "output_type": "stream",
          "name": "stdout",
          "text": [
            "Training Accuracy : 1.00\n",
            "Testing Accuracy : 0.97\n"
          ]
        }
      ]
    },
    {
      "cell_type": "markdown",
      "source": [
        "### Using StemTokenizer\n",
        "\n"
      ],
      "metadata": {
        "id": "xLFNd9lgeJFg"
      }
    },
    {
      "cell_type": "markdown",
      "source": [
        "Create the tokenizer for stemming"
      ],
      "metadata": {
        "id": "ptX0luh1eQJi"
      }
    },
    {
      "cell_type": "code",
      "source": [
        "class StemTokenizer:\n",
        "  def __init__(self):\n",
        "    self.porter = PorterStemmer()\n",
        "  def __call__(self, doc):\n",
        "    tokens = word_tokenize(doc)\n",
        "    return [self.porter.stem(t) for t in tokens]"
      ],
      "metadata": {
        "id": "1DqrVZj5d0rA"
      },
      "execution_count": 33,
      "outputs": []
    },
    {
      "cell_type": "code",
      "source": [
        "vectorizer = TfidfVectorizer(tokenizer=StemTokenizer())\n",
        "Xtrain = vectorizer.fit_transform(train_data)\n",
        "Xtest = vectorizer.transform(test_data)\n",
        "model1 = LogisticRegression()\n",
        "model1.fit(Xtrain, train_labels)\n",
        "print(\"Training Accuracy : %2.2f\" % (model1.score(Xtrain, train_labels)))\n",
        "print(\"Testing Accuracy : %2.2f\" % (model1.score(Xtest, test_labels)))"
      ],
      "metadata": {
        "colab": {
          "base_uri": "https://localhost:8080/"
        },
        "id": "HYZzuMbleSn9",
        "outputId": "3e2fefdd-d62b-4adc-dd6a-a9ed4d2ccb15"
      },
      "execution_count": 34,
      "outputs": [
        {
          "output_type": "stream",
          "name": "stderr",
          "text": [
            "/usr/local/lib/python3.10/dist-packages/sklearn/feature_extraction/text.py:528: UserWarning: The parameter 'token_pattern' will not be used since 'tokenizer' is not None'\n",
            "  warnings.warn(\n"
          ]
        },
        {
          "output_type": "stream",
          "name": "stdout",
          "text": [
            "Training Accuracy : 1.00\n",
            "Testing Accuracy : 0.98\n"
          ]
        }
      ]
    },
    {
      "cell_type": "markdown",
      "source": [
        "Repeat Experiment Using simple splitting"
      ],
      "metadata": {
        "id": "1Z7_1LC5fCW1"
      }
    },
    {
      "cell_type": "code",
      "source": [
        "def simple_tokenizer(s):\n",
        "  return s.split()"
      ],
      "metadata": {
        "id": "efGPoNlaebkN"
      },
      "execution_count": 35,
      "outputs": []
    },
    {
      "cell_type": "code",
      "source": [
        "vectorizer = TfidfVectorizer(tokenizer=simple_tokenizer)\n",
        "Xtrain = vectorizer.fit_transform(train_data)\n",
        "Xtest = vectorizer.transform(test_data)\n",
        "model1 = LogisticRegression()\n",
        "model1.fit(Xtrain, train_labels)\n",
        "print(\"Training Accuracy : %2.2f\" % (model1.score(Xtrain, train_labels)))\n",
        "print(\"Testing Accuracy : %2.2f\" % (model1.score(Xtest, test_labels)))"
      ],
      "metadata": {
        "colab": {
          "base_uri": "https://localhost:8080/"
        },
        "id": "cUbwadOEfGg7",
        "outputId": "9df66375-9ee9-4cbe-c0a5-0686ed01c5b4"
      },
      "execution_count": 36,
      "outputs": [
        {
          "output_type": "stream",
          "name": "stderr",
          "text": [
            "/usr/local/lib/python3.10/dist-packages/sklearn/feature_extraction/text.py:528: UserWarning: The parameter 'token_pattern' will not be used since 'tokenizer' is not None'\n",
            "  warnings.warn(\n"
          ]
        },
        {
          "output_type": "stream",
          "name": "stdout",
          "text": [
            "Training Accuracy : 0.99\n",
            "Testing Accuracy : 0.97\n"
          ]
        }
      ]
    },
    {
      "cell_type": "markdown",
      "source": [
        "### Now, Using non probabilistic model, here we use KNN model."
      ],
      "metadata": {
        "id": "OdBD5S2FhInc"
      }
    },
    {
      "cell_type": "code",
      "source": [
        "from sklearn.neighbors import KNeighborsClassifier\n",
        "model2 = KNeighborsClassifier()\n",
        "model2.fit(Xtrain, train_labels)\n",
        "print(\"Training Accuracy : %2.2f\" % (model2.score(Xtrain, train_labels)))\n",
        "print(\"Testing Accuracy : %2.2f\" % (model2.score(Xtest, test_labels)))"
      ],
      "metadata": {
        "colab": {
          "base_uri": "https://localhost:8080/"
        },
        "id": "3OflTaq1f7Gm",
        "outputId": "ca37f435-693e-4350-ddd2-845376a8d3f9"
      },
      "execution_count": 45,
      "outputs": [
        {
          "output_type": "stream",
          "name": "stdout",
          "text": [
            "Training Accuracy : 0.96\n",
            "Testing Accuracy : 0.92\n"
          ]
        }
      ]
    },
    {
      "cell_type": "markdown",
      "source": [
        "#### Using TFIDF vectorizer, and stopwords as a parameter, we will see how the model performs."
      ],
      "metadata": {
        "id": "B3DOQGp0jzoi"
      }
    },
    {
      "cell_type": "code",
      "source": [
        "vectorizer = TfidfVectorizer(stop_words='english')\n",
        "Xtrain = vectorizer.fit_transform(train_data)\n",
        "Xtest = vectorizer.transform(test_data)\n",
        "model2 = KNeighborsClassifier()\n",
        "model2.fit(Xtrain, train_labels)\n",
        "print(\"Training Accuracy : %2.2f\" % (model2.score(Xtrain, train_labels)))\n",
        "print(\"Testing Accuracy : %2.2f\" % (model2.score(Xtest, test_labels)))"
      ],
      "metadata": {
        "colab": {
          "base_uri": "https://localhost:8080/"
        },
        "id": "gpwnysvnh0dS",
        "outputId": "c97201f4-76ef-4d20-fa66-473e88b0456b"
      },
      "execution_count": 38,
      "outputs": [
        {
          "output_type": "stream",
          "name": "stdout",
          "text": [
            "Training Accuracy : 0.96\n",
            "Testing Accuracy : 0.95\n"
          ]
        }
      ]
    },
    {
      "cell_type": "markdown",
      "source": [
        "#### Now we repeat the step using lemmatization"
      ],
      "metadata": {
        "id": "pU-uAnr6kGAu"
      }
    },
    {
      "cell_type": "code",
      "source": [
        "def get_wordnet_pos(treebank_tag):\n",
        "  if treebank_tag.startswith('J'):\n",
        "    return wordnet.ADJ\n",
        "  elif treebank_tag.startswith('V'):\n",
        "    return wordnet.VERB\n",
        "  elif treebank_tag.startswith('N'):\n",
        "    return wordnet.NOUN\n",
        "  elif treebank_tag.startswith('R'):\n",
        "    return wordnet.ADV\n",
        "  else:\n",
        "    return wordnet.NOUN"
      ],
      "metadata": {
        "id": "bJYAVDEvj89e"
      },
      "execution_count": 39,
      "outputs": []
    },
    {
      "cell_type": "markdown",
      "source": [
        "### Tokenizer class for Lemmatization"
      ],
      "metadata": {
        "id": "g-uu26yHkb6B"
      }
    },
    {
      "cell_type": "code",
      "source": [
        "class LemmaTokenizer:\n",
        "  def __init__(self):\n",
        "    self.wnl = WordNetLemmatizer()\n",
        "  def __call__(self, doc):\n",
        "    tokens = word_tokenize(doc) # word_tokenize is a function in NLTK\n",
        "    words_and_tags = nltk.pos_tag(tokens)\n",
        "    return [self.wnl.lemmatize(word, pos=get_wordnet_pos(tag)) \\\n",
        "            for word, tag in words_and_tags]"
      ],
      "metadata": {
        "id": "VFnik0gEkZeb"
      },
      "execution_count": 40,
      "outputs": []
    },
    {
      "cell_type": "markdown",
      "source": [
        "### Using Lemmatization"
      ],
      "metadata": {
        "id": "9jLndHFRkm-D"
      }
    },
    {
      "cell_type": "code",
      "source": [
        "vectorizer = TfidfVectorizer(tokenizer=LemmaTokenizer())\n",
        "Xtrain = vectorizer.fit_transform(train_data)\n",
        "Xtest = vectorizer.transform(test_data)\n",
        "model2 = KNeighborsClassifier()\n",
        "model2.fit(Xtrain, train_labels)\n",
        "print(\"Training Accuracy : %2.2f\" % (model2.score(Xtrain, train_labels)))\n",
        "print(\"Testing Accuracy : %2.2f\" % (model2.score(Xtest, test_labels)))"
      ],
      "metadata": {
        "colab": {
          "base_uri": "https://localhost:8080/"
        },
        "id": "MHwS7BfYkiTP",
        "outputId": "ef946e0e-4e3c-4c76-ceaf-accd623b0c2b"
      },
      "execution_count": 41,
      "outputs": [
        {
          "output_type": "stream",
          "name": "stderr",
          "text": [
            "/usr/local/lib/python3.10/dist-packages/sklearn/feature_extraction/text.py:528: UserWarning: The parameter 'token_pattern' will not be used since 'tokenizer' is not None'\n",
            "  warnings.warn(\n"
          ]
        },
        {
          "output_type": "stream",
          "name": "stdout",
          "text": [
            "Training Accuracy : 0.95\n",
            "Testing Accuracy : 0.91\n"
          ]
        }
      ]
    },
    {
      "cell_type": "markdown",
      "source": [
        "###  Repeat Experiment for KNN model Using Stemming"
      ],
      "metadata": {
        "id": "YHZBjZBwlRCf"
      }
    },
    {
      "cell_type": "markdown",
      "source": [
        "### Tokenization class for Stemming"
      ],
      "metadata": {
        "id": "De50yYr4lWs0"
      }
    },
    {
      "cell_type": "code",
      "source": [
        "class StemTokenizer:\n",
        "  def __init__(self):\n",
        "    self.porter = PorterStemmer()\n",
        "  def __call__(self, doc):\n",
        "    tokens = word_tokenize(doc)\n",
        "    return [self.porter.stem(t) for t in tokens]"
      ],
      "metadata": {
        "id": "0bhn3Zqmkvkk"
      },
      "execution_count": 42,
      "outputs": []
    },
    {
      "cell_type": "markdown",
      "source": [
        "Using stemming"
      ],
      "metadata": {
        "id": "-uC56p1zlpUm"
      }
    },
    {
      "cell_type": "code",
      "source": [
        "vectorizer = TfidfVectorizer(tokenizer=StemTokenizer())\n",
        "Xtrain = vectorizer.fit_transform(train_data)\n",
        "Xtest = vectorizer.transform(test_data)\n",
        "model2 = KNeighborsClassifier()\n",
        "model2.fit(Xtrain, train_labels)\n",
        "print(\"Training Accuracy : %2.2f\" % (model2.score(Xtrain, train_labels)))\n",
        "print(\"Testing Accuracy : %2.2f\" % (model2.score(Xtest, test_labels)))"
      ],
      "metadata": {
        "colab": {
          "base_uri": "https://localhost:8080/"
        },
        "id": "78oUAnH5lmqS",
        "outputId": "9ade1824-32c1-47ce-bccd-382fe03c3d54"
      },
      "execution_count": 43,
      "outputs": [
        {
          "output_type": "stream",
          "name": "stderr",
          "text": [
            "/usr/local/lib/python3.10/dist-packages/sklearn/feature_extraction/text.py:528: UserWarning: The parameter 'token_pattern' will not be used since 'tokenizer' is not None'\n",
            "  warnings.warn(\n"
          ]
        },
        {
          "output_type": "stream",
          "name": "stdout",
          "text": [
            "Training Accuracy : 0.96\n",
            "Testing Accuracy : 0.92\n"
          ]
        }
      ]
    },
    {
      "cell_type": "markdown",
      "source": [
        "### Experiment Using simple splitting"
      ],
      "metadata": {
        "id": "Sc4ZDScFl4PO"
      }
    },
    {
      "cell_type": "code",
      "source": [
        "def simple_tokenizer(s):\n",
        "  return s.split()"
      ],
      "metadata": {
        "id": "1YjomVfCl0eo"
      },
      "execution_count": 60,
      "outputs": []
    },
    {
      "cell_type": "code",
      "source": [
        "vectorizer = TfidfVectorizer(tokenizer=simple_tokenizer)\n",
        "Xtrain = vectorizer.fit_transform(train_data)\n",
        "Xtest = vectorizer.transform(test_data)\n",
        "model2 = KNeighborsClassifier()\n",
        "model2.fit(Xtrain, train_labels)\n",
        "print(\"Training Accuracy : %2.2f\" % (model2.score(Xtrain, train_labels)))\n",
        "print(\"Testing Accuracy : %2.2f\" % (model2.score(Xtest, test_labels)))"
      ],
      "metadata": {
        "colab": {
          "base_uri": "https://localhost:8080/"
        },
        "id": "yORonlxRl6fi",
        "outputId": "46c24e7b-a247-41c2-8199-5e5438f7f824"
      },
      "execution_count": 61,
      "outputs": [
        {
          "output_type": "stream",
          "name": "stderr",
          "text": [
            "/usr/local/lib/python3.10/dist-packages/sklearn/feature_extraction/text.py:528: UserWarning: The parameter 'token_pattern' will not be used since 'tokenizer' is not None'\n",
            "  warnings.warn(\n"
          ]
        },
        {
          "output_type": "stream",
          "name": "stdout",
          "text": [
            "Training Accuracy : 0.95\n",
            "Testing Accuracy : 0.92\n"
          ]
        }
      ]
    },
    {
      "cell_type": "markdown",
      "source": [
        "### **Observation**"
      ],
      "metadata": {
        "id": "sX7qv5j-BgE_"
      }
    },
    {
      "cell_type": "markdown",
      "source": [
        "The accuracy of training set using Naive Bayes:\n",
        "* Training Accuracy : 0.98\n",
        "* Testing Accuracy : 0.95\n",
        "\n",
        "Using logistic regression, the default accuracy is:\n",
        "\n",
        "*   Training Accuracy : 1.00\n",
        "*  Testing Accuracy : 0.98\n",
        "\n",
        "Using KNN model, the accuracy of the model on training is 95% whereas on testing is 92%.\n",
        "* Training Accuracy : 0.96\n",
        "* Testing Accuracy : 0.92\n",
        "\n",
        "Hence, by the above scores it proves the performance of the model on the dataset. By this I think logistic regression performed better and Naive Bayes performed slightly less on testing dataset.\n",
        "It is known that KNN and SVM performs better as they are big models and have high simulation on the data giving us accurate results.\n",
        "Though logistic regression gave a 100% accuracy, it might sometimes not take the dimensions of the training x and y datasets.\n",
        "Also, Using KNN it performed a close and similar accuracy while performing default and also by using tokenizer and lematization techniques.\n",
        "As this also shows that though the model performs better it might not be suitable for some datasets."
      ],
      "metadata": {
        "id": "QgoTHNv97zMY"
      }
    }
  ]
}